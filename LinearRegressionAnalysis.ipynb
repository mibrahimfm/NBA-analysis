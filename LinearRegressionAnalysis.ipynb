{
 "cells": [
  {
   "cell_type": "code",
   "execution_count": 1,
   "metadata": {},
   "outputs": [],
   "source": [
    "import pandas as pd\n",
    "import matplotlib.pyplot as plt\n",
    "import math\n",
    "import numpy as np\n",
    "import xlsxwriter\n",
    "from openpyxl import load_workbook\n",
    "import scipy.stats as sts\n",
    "from sklearn.linear_model import LinearRegression"
   ]
  },
  {
   "cell_type": "code",
   "execution_count": 2,
   "metadata": {},
   "outputs": [],
   "source": [
    "TEAMS= [\"ATL\", \"BOS\", \"BRK\", \"CHI\", \"CHO\", \"CLE\", \"DAL\", \"DEN\", \"DET\", \"GSW\", \"HOU\", \"IND\", \"LAC\", \"LAL\", \"MEM\", \"MIA\", \"MIL\", \"MIN\", \"NOP\", \"NYK\", \"OKC\", \"ORL\", \"PHI\", \"PHO\", \"POR\", \"SAC\", \"SAS\", \"TOR\", \"UTA\", \"WAS\"]\n",
    "WESTERN_CONF_TEAMS = [\"DAL\", \"DEN\", \"GSW\", \"HOU\", \"LAC\", \"LAL\", \"MEM\", \"MIN\", \"NOP\", \"OKC\", \"PHO\", \"POR\", \"SAC\", \"SAS\", \"UTA\"]\n",
    "EASTERN_CONF_TEAMS = [\"ATL\", \"BOS\", \"BRK\", \"CHI\", \"CHO\", \"CLE\", \"DET\", \"IND\", \"MIA\", \"MIL\", \"NYK\", \"ORL\", \"PHI\", \"TOR\", \"WAS\"]\n",
    "ATLANTIC_DIV_TEAMS = [\"BOS\", \"BRK\", \"NYK\", \"PHI\", \"TOR\"]\n",
    "CENTRAL_DIV_TEAMS = [\"CHI\", \"CLE\", \"DET\", \"IND\", \"MIL\"]\n",
    "SOUTHEAST_DIV_TEAMS = [\"ATL\", \"CHO\", \"MIA\", \"ORL\", \"WAS\"]\n",
    "NORTHWEST_DIV_TEAMS = [\"DEN\", \"MIN\", \"OKC\", \"POR\", \"UTA\"]\n",
    "SOUTHWEST_DIV_TEAM = [\"GSW\", \"LAC\", \"LAL\", \"PHO\", \"SAC\"]\n",
    "PACIFIC_DIV_TEAMS = [\"DAL\", \"HOU\", \"MEM\", \"NOP\", \"SAS\"]\n",
    "SEASONS = [2003, 2004, 2005, 2006, 2007, 2008, 2009, 2010, 2011, 2012, 2013, 2014, 2015, 2016, 2017, 2018, 2019, 2020, 2021]\n",
    "POSITIONS = [\"PG\", \"SG\", \"SF\", \"PF\", \"C\"]"
   ]
  },
  {
   "cell_type": "code",
   "execution_count": 3,
   "metadata": {},
   "outputs": [],
   "source": [
    "def mean(data):\n",
    "    return sum(data) / len(data)"
   ]
  },
  {
   "cell_type": "code",
   "execution_count": 4,
   "metadata": {},
   "outputs": [],
   "source": [
    "def variance(data):\n",
    "    n = len(data)\n",
    "    avg = mean(data)\n",
    "    \n",
    "    deviations = [(x - avg) ** 2 for x in data]\n",
    "    \n",
    "    variance = sum(deviations) / n\n",
    "    return variance"
   ]
  },
  {
   "cell_type": "code",
   "execution_count": 5,
   "metadata": {},
   "outputs": [],
   "source": [
    "def std(data):\n",
    "    var = variance(data)\n",
    "    std = var ** 0.5\n",
    "    return std"
   ]
  },
  {
   "cell_type": "code",
   "execution_count": 6,
   "metadata": {},
   "outputs": [],
   "source": [
    "def growth_rate(data):\n",
    "    straight_line_growth = []\n",
    "    \n",
    "    for i in range(1, len(data)):\n",
    "        growth = (data[i] - data[i-1]) / data[i-1]\n",
    "        straight_line_growth.append(growth)\n",
    "        \n",
    "    growth_rt = sum(straight_line_growth) / len(straight_line_growth)\n",
    "    \n",
    "    return \"{:.2f}%\".format(growth_rt*100)"
   ]
  },
  {
   "cell_type": "code",
   "execution_count": 7,
   "metadata": {},
   "outputs": [],
   "source": [
    "def merge_standings(eastern_standings, western_standings):\n",
    "    standings = pd.concat([western_standings, eastern_standings])\n",
    "    standings.sort_values(by=[\"Made_Playoffs\", \"W\", \"Rank\", \"Team\"], ascending=[False, False, True, True], inplace=True)\n",
    "    standings.reset_index(inplace=True)\n",
    "    standings.drop('index', axis=1, inplace=True)\n",
    "    standings.index += 1\n",
    "    teams_ranked = dict(standings[\"Team\"])\n",
    "    inv_teams_ranked = {v: k for k, v in teams_ranked.items()}\n",
    "    return inv_teams_ranked"
   ]
  },
  {
   "cell_type": "code",
   "execution_count": 8,
   "metadata": {},
   "outputs": [],
   "source": [
    "def spearman_rank_corr(rank1, rank2):\n",
    "    d_square = []\n",
    "    \n",
    "    if len(rank1) != len(rank2):\n",
    "        return\n",
    "    \n",
    "    n = len(rank1)\n",
    "    \n",
    "    for i in range(n):\n",
    "        d = rank1[i] - rank2[i]\n",
    "        d_square.append(d ** 2)\n",
    "    \n",
    "    return 1 - ((6 * sum(d_square)) / (n * (n ** 2 - 1)))"
   ]
  },
  {
   "cell_type": "code",
   "execution_count": 9,
   "metadata": {},
   "outputs": [],
   "source": [
    "def linear_regression_stat(x, y):\n",
    "    if len(x) != len(y):\n",
    "        return\n",
    "    \n",
    "    return sts.linregress(x, y)"
   ]
  },
  {
   "cell_type": "code",
   "execution_count": 10,
   "metadata": {},
   "outputs": [],
   "source": [
    "def multiple_linear_regression_stat(X, y):\n",
    "    return LinearRegression().fit(X, y)"
   ]
  },
  {
   "cell_type": "code",
   "execution_count": 12,
   "metadata": {},
   "outputs": [],
   "source": [
    "def calculate_rank_corr_by_team_stat(df, eastern_standings, western_standings, stats):\n",
    "    \n",
    "    stats_rankings_dicts = []\n",
    "    \n",
    "    for stat in stats:\n",
    "        corr_df = df.sort_values(by=[stat, 'Team'], ascending=[False, True])\n",
    "        corr_df.set_index('Team', inplace=True)\n",
    "\n",
    "        teams = list(corr_df.index)\n",
    "        rank = range(1, 31)\n",
    "        zip_iterator = zip(teams, rank)\n",
    "\n",
    "        teams_ordered_by_stat = dict(zip_iterator)\n",
    "        \n",
    "        stats_rankings_dicts.append(teams_ordered_by_stat)\n",
    "\n",
    "        \n",
    "    standings = merge_standings(eastern_standings, western_standings)\n",
    "    \n",
    "    \n",
    "    rank1 = []\n",
    "    rank2 = []\n",
    "    for team in TEAMS:\n",
    "        if team in standings:\n",
    "            stats_rankings = []\n",
    "            for stat_ranking in stats_rankings_dicts:\n",
    "                stats_rankings.append(stat_ranking[team])\n",
    "            rank1.append(stats_rankings)\n",
    "            rank2.append(standings[team])\n",
    "    \n",
    "    print(rank1)\n",
    "    rank1 = np.array(rank1)\n",
    "    rank2 = np.array(rank2)\n",
    "    return multiple_linear_regression_stat(rank1, rank2)"
   ]
  },
  {
   "cell_type": "code",
   "execution_count": 14,
   "metadata": {},
   "outputs": [],
   "source": [
    "def rank_team_corrs_to_excel(dfs, eastern_standings_dfs, western_standings_dfs, stat, mode='spearman'):\n",
    "    corrs = [stat]\n",
    "    \n",
    "    n = len(dfs)\n",
    "    \n",
    "    for i in range(n):\n",
    "        corrs.append(calculate_rank_corr_by_team_stat(dfs[i], eastern_standings_dfs[i], western_standings_dfs[i], stat))\n",
    "    \n",
    "    wb = load_workbook(\"Linear_Regression_Team_Stats.xlsx\")\n",
    "    ws = wb.worksheets[0]\n",
    "    \n",
    "    ws.append(corrs)\n",
    "    wb.save(\"Linear_Regression_Team_Stats.xlsx\")"
   ]
  },
  {
   "cell_type": "code",
   "execution_count": 15,
   "metadata": {},
   "outputs": [],
   "source": [
    "def format_season(season):\n",
    "        #Formats years in season to use in File Name\n",
    "        #Ex: 2021 turns into 2020-21\n",
    "        first_year = season-1\n",
    "        second_year = str(season)[2:]\n",
    "        \n",
    "        return first_year, second_year"
   ]
  },
  {
   "cell_type": "code",
   "execution_count": 16,
   "metadata": {},
   "outputs": [],
   "source": [
    "def get_csvs_by_season(season):\n",
    "    first_year, second_year = format_season(season)\n",
    "\n",
    "    player_df = pd.read_csv(\"DataCollection/Player_Stats/player_stats_{0}-{1}.csv\".format(first_year, second_year))\n",
    "    team_df = pd.read_csv(\"DataCollection/Team_Stats/team_stats_{0}-{1}.csv\".format(first_year, second_year))\n",
    "    adv_team_df = pd.read_csv(\"DataCollection/Advanced_Team_Stats/adv_team_stats_{0}-{1}.csv\".format(first_year, second_year))\n",
    "    opponent_df = pd.read_csv(\"DataCollection/Opponent_Stats/opponent_stats_{0}-{1}.csv\".format(first_year, second_year))\n",
    "    eastern_standings_df = pd.read_csv(\"DataCollection/Standings/standings_eastern_conference_{0}-{1}.csv\".format(first_year, second_year))\n",
    "    western_standings_df = pd.read_csv(\"DataCollection/Standings/standings_western_conference_{0}-{1}.csv\".format(first_year, second_year))\n",
    "\n",
    "    return player_df, team_df, adv_team_df, opponent_df, eastern_standings_df, western_standings_df"
   ]
  },
  {
   "cell_type": "code",
   "execution_count": 17,
   "metadata": {},
   "outputs": [],
   "source": [
    "player_dfs, team_dfs, adv_team_dfs, opponent_dfs, eastern_standings_dfs, western_standings_dfs = [], [], [], [], [], []\n",
    "\n",
    "for season in SEASONS:\n",
    "    player_df, team_df, adv_team_df, opponent_df, eastern_standings_df, western_standings_df = get_csvs_by_season(season)\n",
    "    player_dfs.append(player_df)\n",
    "    team_dfs.append(team_df)\n",
    "    adv_team_dfs.append(adv_team_df)\n",
    "    opponent_dfs.append(opponent_df)\n",
    "    eastern_standings_dfs.append(eastern_standings_df)\n",
    "    western_standings_dfs.append(western_standings_df)"
   ]
  },
  {
   "cell_type": "code",
   "execution_count": 18,
   "metadata": {},
   "outputs": [],
   "source": [
    "stats = ['W', 'L', 'PW', 'PL', 'MOV', 'SOS', 'SRS', 'ORtg',\n",
    "       'DRtg', 'NRtg', 'Pace', 'FTr', '3PAr', 'TS%', 'Off_eFG%', 'Off_TOV%',\n",
    "       'Off_ORB%', 'Off_FT/FGA', 'Def_eFG%', 'Def_TOV%', 'Def_DRB%',\n",
    "       'Def_FT/FGA', 'Arena', 'Attend.', 'Attend./G']"
   ]
  }
 ],
 "metadata": {
  "kernelspec": {
   "display_name": "Python 3",
   "language": "python",
   "name": "python3"
  },
  "language_info": {
   "codemirror_mode": {
    "name": "ipython",
    "version": 3
   },
   "file_extension": ".py",
   "mimetype": "text/x-python",
   "name": "python",
   "nbconvert_exporter": "python",
   "pygments_lexer": "ipython3",
   "version": "3.7.6"
  }
 },
 "nbformat": 4,
 "nbformat_minor": 4
}
