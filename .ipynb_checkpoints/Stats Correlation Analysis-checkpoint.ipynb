{
 "cells": [
  {
   "cell_type": "code",
   "execution_count": 2,
   "metadata": {},
   "outputs": [],
   "source": [
    "import pandas as pd\n",
    "import matplotlib.pyplot as plt\n",
    "import matplotlib.pylab as pylab\n",
    "import math\n",
    "import numpy as np\n",
    "import xlsxwriter\n",
    "from openpyxl import load_workbook"
   ]
  },
  {
   "cell_type": "code",
   "execution_count": 3,
   "metadata": {},
   "outputs": [],
   "source": [
    "params = {'legend.fontsize': 'xx-large',\n",
    "          'figure.figsize': (25, 17),\n",
    "         'axes.labelsize': 'large',\n",
    "         'axes.titlesize':'xx-large',\n",
    "         'xtick.labelsize':'xx-large',\n",
    "         'ytick.labelsize':'xx-large'}\n",
    "pylab.rcParams.update(params)"
   ]
  },
  {
   "cell_type": "code",
   "execution_count": 4,
   "metadata": {},
   "outputs": [],
   "source": [
    "TEAMS= [\"ATL\", \"BOS\", \"BRK\", \"CHI\", \"CHO\", \"CLE\", \"DAL\", \"DEN\", \"DET\", \"GSW\", \"HOU\", \"IND\", \"LAC\", \"LAL\", \"MEM\", \"MIA\", \"MIL\", \"MIN\", \"NOP\", \"NYK\", \"OKC\", \"ORL\", \"PHI\", \"PHO\", \"POR\", \"SAC\", \"SAS\", \"TOR\", \"UTA\", \"WAS\"]\n",
    "WESTERN_CONF_TEAMS = [\"DAL\", \"DEN\", \"GSW\", \"HOU\", \"LAC\", \"LAL\", \"MEM\", \"MIN\", \"NOP\", \"OKC\", \"PHO\", \"POR\", \"SAC\", \"SAS\", \"UTA\"]\n",
    "EASTERN_CONF_TEAMS = [\"ATL\", \"BOS\", \"BRK\", \"CHI\", \"CHO\", \"CLE\", \"DET\", \"IND\", \"MIA\", \"MIL\", \"NYK\", \"ORL\", \"PHI\", \"TOR\", \"WAS\"]\n",
    "ATLANTIC_DIV_TEAMS = [\"BOS\", \"BRK\", \"NYK\", \"PHI\", \"TOR\"]\n",
    "CENTRAL_DIV_TEAMS = [\"CHI\", \"CLE\", \"DET\", \"IND\", \"MIL\"]\n",
    "SOUTHEAST_DIV_TEAMS = [\"ATL\", \"CHO\", \"MIA\", \"ORL\", \"WAS\"]\n",
    "NORTHWEST_DIV_TEAMS = [\"DEN\", \"MIN\", \"OKC\", \"POR\", \"UTA\"]\n",
    "SOUTHWEST_DIV_TEAM = [\"GSW\", \"LAC\", \"LAL\", \"PHO\", \"SAC\"]\n",
    "PACIFIC_DIV_TEAMS = [\"DAL\", \"HOU\", \"MEM\", \"NOP\", \"SAS\"]\n",
    "SEASONS = [2003, 2004, 2005, 2006, 2007, 2008, 2009, 2010, 2011, 2012, 2013, 2014, 2015, 2016, 2017, 2018, 2019, 2020, 2021]\n",
    "POSITIONS = [\"PG\", \"SG\", \"SF\", \"PF\", \"C\"]"
   ]
  },
  {
   "cell_type": "code",
   "execution_count": 5,
   "metadata": {},
   "outputs": [],
   "source": [
    "def mean(data):\n",
    "    return sum(data) / len(data)"
   ]
  },
  {
   "cell_type": "code",
   "execution_count": 6,
   "metadata": {},
   "outputs": [],
   "source": [
    "def variance(data):\n",
    "    n = len(data)\n",
    "    avg = mean(data)\n",
    "    \n",
    "    deviations = [(x - avg) ** 2 for x in data]\n",
    "    \n",
    "    variance = sum(deviations) / n\n",
    "    return variance"
   ]
  },
  {
   "cell_type": "code",
   "execution_count": 7,
   "metadata": {},
   "outputs": [],
   "source": [
    "def std(data):\n",
    "    var = variance(data)\n",
    "    std = var ** 0.5\n",
    "    return std"
   ]
  },
  {
   "cell_type": "code",
   "execution_count": 8,
   "metadata": {},
   "outputs": [],
   "source": [
    "def growth_rate(data):\n",
    "    straight_line_growth = []\n",
    "    \n",
    "    for i in range(1, len(data)):\n",
    "        growth = (data[i] - data[i-1]) / data[i-1]\n",
    "        straight_line_growth.append(growth)\n",
    "        \n",
    "    growth_rt = sum(straight_line_growth) / len(straight_line_growth)\n",
    "    \n",
    "    return \"{:.2f}%\".format(growth_rt*100)"
   ]
  },
  {
   "cell_type": "code",
   "execution_count": 9,
   "metadata": {},
   "outputs": [],
   "source": [
    "def spearman_rank_corr(rank1, rank2):\n",
    "    d_square = []\n",
    "    \n",
    "    if len(rank1) != len(rank2):\n",
    "        return\n",
    "    \n",
    "    n = len(rank1)\n",
    "    \n",
    "    for i in range(n):\n",
    "        d = rank1[i] - rank2[i]\n",
    "        d_square.append(d ** 2)\n",
    "    \n",
    "    return 1 - ((6 * sum(d_square)) / (n * (n ** 2 - 1)))"
   ]
  },
  {
   "cell_type": "code",
   "execution_count": 10,
   "metadata": {},
   "outputs": [],
   "source": [
    "def calculate_rank_corr_by_player_stat(df, eastern_standings, western_standings, stat, measure=\"mean\"): #measure might be mean, sd or max\n",
    "    if measure == \"mean\":\n",
    "        grouped_df = pd.DataFrame(df.groupby(by=['Tm']).mean())\n",
    "    elif measure == \"sd\":\n",
    "        grouped_df = pd.DataFrame(df.groupby(by=['Tm']).std())\n",
    "    elif measure == \"max\":\n",
    "        grouped_df = pd.DataFrame(df.groupby(by=['Tm']).max())\n",
    "    grouped_df.sort_values(by=[stat, 'Tm'], ascending=[False, True], inplace=True)\n",
    "    \n",
    "    teams = list(grouped_df.index)\n",
    "    if \"TOT\" in teams:\n",
    "        teams.remove(\"TOT\")\n",
    "    rank = range(1, 31)\n",
    "    zip_iterator = zip(teams, rank)\n",
    "\n",
    "    teams_ordered_by_stat = dict(zip_iterator)\n",
    "    \n",
    "    standings = merge_standings(eastern_standings, western_standings)\n",
    "    \n",
    "    print(teams_ordered_by_stat)\n",
    "    \n",
    "    rank1 = []\n",
    "    rank2 = []\n",
    "    for team in TEAMS:\n",
    "        if team in standings:\n",
    "            rank1.append(teams_ordered_by_stat[team])\n",
    "            rank2.append(standings[team])\n",
    "\n",
    "    return spearman_rank_corr(rank1, rank2)"
   ]
  },
  {
   "cell_type": "code",
   "execution_count": 11,
   "metadata": {},
   "outputs": [],
   "source": [
    "def calculate_rank_corr_by_team_stat(df, eastern_standings, western_standings, stat):\n",
    "    \n",
    "    corr_df = df.sort_values(by=[stat, 'Team'], ascending=[False, True])\n",
    "    \n",
    "    corr_df.set_index('Team', inplace=True)\n",
    "    \n",
    "    teams = list(corr_df.index)\n",
    "    rank = range(1, 31)\n",
    "    zip_iterator = zip(teams, rank)\n",
    "\n",
    "    teams_ordered_by_stat = dict(zip_iterator)\n",
    "    \n",
    "    standings = merge_standings(eastern_standings, western_standings)\n",
    "    \n",
    "    \n",
    "    rank1 = []\n",
    "    rank2 = []\n",
    "    for team in TEAMS:\n",
    "        if team in standings:\n",
    "            rank1.append(teams_ordered_by_stat[team])\n",
    "            rank2.append(standings[team])\n",
    "\n",
    "    return spearman_rank_corr(rank1, rank2)"
   ]
  },
  {
   "cell_type": "code",
   "execution_count": 12,
   "metadata": {},
   "outputs": [],
   "source": [
    "def rank_player_corrs_to_excel(dfs, eastern_standings_dfs, western_standings_dfs, stat, measure=\"mean\"):\n",
    "    corrs = [stat, measure]\n",
    "    \n",
    "    n = len(dfs)\n",
    "    \n",
    "    for i in range(n):\n",
    "        corrs.append(calculate_rank_corr_by_player_stat(dfs[i], eastern_standings_dfs[i], western_standings_dfs[i], stat, measure))\n",
    "        \n",
    "    wb = load_workbook(\"Rank_Correlation_Player_Stats.xlsx\")\n",
    "    ws = wb.worksheets[0]\n",
    "    \n",
    "    ws.append(corrs)\n",
    "    wb.save(\"Rank_Correlation_Player_Stats.xlsx\")"
   ]
  },
  {
   "cell_type": "code",
   "execution_count": 13,
   "metadata": {},
   "outputs": [],
   "source": [
    "def rank_team_corrs_to_excel(dfs, eastern_standings_dfs, western_standings_dfs, stat):\n",
    "    corrs = [stat]\n",
    "    \n",
    "    n = len(dfs)\n",
    "    \n",
    "    for i in range(n):\n",
    "        corrs.append(calculate_rank_corr_by_team_stat(dfs[i], eastern_standings_dfs[i], western_standings_dfs[i], stat))\n",
    "        \n",
    "    wb = load_workbook(\"Rank_Correlation_Team_Stats.xlsx\")\n",
    "    ws = wb.worksheets[0]\n",
    "    \n",
    "    ws.append(corrs)\n",
    "    wb.save(\"Rank_Correlation_Team_Stats.xlsx\")"
   ]
  },
  {
   "cell_type": "code",
   "execution_count": 14,
   "metadata": {},
   "outputs": [],
   "source": [
    "def merge_standings(eastern_standings, western_standings):\n",
    "    standings = pd.concat([western_standings, eastern_standings])\n",
    "    standings.sort_values(by=[\"Made_Playoffs\", \"W\", \"Rank\", \"Team\"], ascending=[False, False, True, True], inplace=True)\n",
    "    standings.reset_index(inplace=True)\n",
    "    standings.drop('index', axis=1, inplace=True)\n",
    "    standings.index += 1\n",
    "    teams_ranked = dict(standings[\"Team\"])\n",
    "    inv_teams_ranked = {v: k for k, v in teams_ranked.items()}\n",
    "    return inv_teams_ranked"
   ]
  },
  {
   "cell_type": "code",
   "execution_count": 15,
   "metadata": {},
   "outputs": [],
   "source": [
    "def format_season(season):\n",
    "        #Formats years in season to use in File Name\n",
    "        #Ex: 2021 turns into 2020-21\n",
    "        first_year = season-1\n",
    "        second_year = str(season)[2:]\n",
    "        \n",
    "        return first_year, second_year"
   ]
  },
  {
   "cell_type": "code",
   "execution_count": 19,
   "metadata": {},
   "outputs": [],
   "source": [
    "def get_csvs_by_season(season):\n",
    "    first_year, second_year = format_season(season)\n",
    "\n",
    "    player_df = pd.read_csv(\"DataCollection/Player_Stats/player_stats_{0}-{1}.csv\".format(first_year, second_year))\n",
    "    team_df = pd.read_csv(\"DataCollection/Team_Stats/team_stats_{0}-{1}.csv\".format(first_year, second_year))\n",
    "    adv_team_df = pd.read_csv(\"DataCollection/Advanced_Team_Stats/adv_team_stats_{0}-{1}.csv\".format(first_year, second_year))\n",
    "    opponent_df = pd.read_csv(\"DataCollection/Opponent_Stats/opponent_stats_{0}-{1}.csv\".format(first_year, second_year))\n",
    "    eastern_standings_df = pd.read_csv(\"DataCollection/Standings/standings_eastern_conference_{0}-{1}.csv\".format(first_year, second_year))\n",
    "    western_standings_df = pd.read_csv(\"DataCollection/Standings/standings_western_conference_{0}-{1}.csv\".format(first_year, second_year))\n",
    "\n",
    "    return player_df, team_df, adv_team_df, opponent_df, eastern_standings_df, western_standings_df"
   ]
  },
  {
   "cell_type": "code",
   "execution_count": 20,
   "metadata": {},
   "outputs": [],
   "source": [
    "player_dfs, team_dfs, adv_team_dfs, opponent_dfs, eastern_standings_dfs, western_standings_dfs = [], [], [], [], [], []\n",
    "\n",
    "for season in SEASONS:\n",
    "    player_df, team_df, adv_team_df, opponent_df, eastern_standings_df, western_standings_df = get_csvs_by_season(season)\n",
    "    player_dfs.append(player_df)\n",
    "    team_dfs.append(team_df)\n",
    "    adv_team_dfs.append(adv_team_df)\n",
    "    opponent_dfs.append(opponent_df)\n",
    "    eastern_standings_dfs.append(eastern_standings_df)\n",
    "    western_standings_dfs.append(western_standings_df)"
   ]
  },
  {
   "cell_type": "code",
   "execution_count": 21,
   "metadata": {},
   "outputs": [],
   "source": [
    "stats = ['W', 'L', 'PW', 'PL', 'MOV', 'SOS', 'SRS', 'ORtg',\n",
    "       'DRtg', 'NRtg', 'Pace', 'FTr', '3PAr', 'TS%', 'Off_eFG%', 'Off_TOV%',\n",
    "       'Off_ORB%', 'Off_FT/FGA', 'Def_eFG%', 'Def_TOV%', 'Def_DRB%',\n",
    "       'Def_FT/FGA', 'Arena', 'Attend.', 'Attend./G']"
   ]
  },
  {
   "cell_type": "code",
   "execution_count": 24,
   "metadata": {
    "scrolled": true
   },
   "outputs": [
    {
     "ename": "TypeError",
     "evalue": "calculate_rank_corr_by_team_stat() missing 1 required positional argument: 'only_playoff'",
     "output_type": "error",
     "traceback": [
      "\u001b[1;31m---------------------------------------------------------------------------\u001b[0m",
      "\u001b[1;31mTypeError\u001b[0m                                 Traceback (most recent call last)",
      "\u001b[1;32m<ipython-input-24-c0652493e3c7>\u001b[0m in \u001b[0;36m<module>\u001b[1;34m\u001b[0m\n\u001b[0;32m      1\u001b[0m \u001b[1;32mfor\u001b[0m \u001b[0mstat\u001b[0m \u001b[1;32min\u001b[0m \u001b[0mstats\u001b[0m\u001b[1;33m:\u001b[0m\u001b[1;33m\u001b[0m\u001b[1;33m\u001b[0m\u001b[0m\n\u001b[1;32m----> 2\u001b[1;33m     \u001b[0mrank_team_corrs_to_excel\u001b[0m\u001b[1;33m(\u001b[0m\u001b[0madv_team_dfs\u001b[0m\u001b[1;33m,\u001b[0m \u001b[0meastern_standings_dfs\u001b[0m\u001b[1;33m,\u001b[0m \u001b[0mwestern_standings_dfs\u001b[0m\u001b[1;33m,\u001b[0m \u001b[0mstat\u001b[0m\u001b[1;33m)\u001b[0m\u001b[1;33m\u001b[0m\u001b[1;33m\u001b[0m\u001b[0m\n\u001b[0m",
      "\u001b[1;32m<ipython-input-13-b5620cc359a6>\u001b[0m in \u001b[0;36mrank_team_corrs_to_excel\u001b[1;34m(dfs, eastern_standings_dfs, western_standings_dfs, stat)\u001b[0m\n\u001b[0;32m      5\u001b[0m \u001b[1;33m\u001b[0m\u001b[0m\n\u001b[0;32m      6\u001b[0m     \u001b[1;32mfor\u001b[0m \u001b[0mi\u001b[0m \u001b[1;32min\u001b[0m \u001b[0mrange\u001b[0m\u001b[1;33m(\u001b[0m\u001b[0mn\u001b[0m\u001b[1;33m)\u001b[0m\u001b[1;33m:\u001b[0m\u001b[1;33m\u001b[0m\u001b[1;33m\u001b[0m\u001b[0m\n\u001b[1;32m----> 7\u001b[1;33m         \u001b[0mcorrs\u001b[0m\u001b[1;33m.\u001b[0m\u001b[0mappend\u001b[0m\u001b[1;33m(\u001b[0m\u001b[0mcalculate_rank_corr_by_team_stat\u001b[0m\u001b[1;33m(\u001b[0m\u001b[0mdfs\u001b[0m\u001b[1;33m[\u001b[0m\u001b[0mi\u001b[0m\u001b[1;33m]\u001b[0m\u001b[1;33m,\u001b[0m \u001b[0meastern_standings_dfs\u001b[0m\u001b[1;33m[\u001b[0m\u001b[0mi\u001b[0m\u001b[1;33m]\u001b[0m\u001b[1;33m,\u001b[0m \u001b[0mwestern_standings_dfs\u001b[0m\u001b[1;33m[\u001b[0m\u001b[0mi\u001b[0m\u001b[1;33m]\u001b[0m\u001b[1;33m,\u001b[0m \u001b[0mstat\u001b[0m\u001b[1;33m)\u001b[0m\u001b[1;33m)\u001b[0m\u001b[1;33m\u001b[0m\u001b[1;33m\u001b[0m\u001b[0m\n\u001b[0m\u001b[0;32m      8\u001b[0m \u001b[1;33m\u001b[0m\u001b[0m\n\u001b[0;32m      9\u001b[0m     \u001b[0mwb\u001b[0m \u001b[1;33m=\u001b[0m \u001b[0mload_workbook\u001b[0m\u001b[1;33m(\u001b[0m\u001b[1;34m\"Rank_Correlation_Team_Stats.xlsx\"\u001b[0m\u001b[1;33m)\u001b[0m\u001b[1;33m\u001b[0m\u001b[1;33m\u001b[0m\u001b[0m\n",
      "\u001b[1;31mTypeError\u001b[0m: calculate_rank_corr_by_team_stat() missing 1 required positional argument: 'only_playoff'"
     ]
    }
   ],
   "source": [
    "for stat in stats:\n",
    "    rank_team_corrs_to_excel(adv_team_dfs, eastern_standings_dfs, western_standings_dfs, stat)"
   ]
  },
  {
   "cell_type": "code",
   "execution_count": 23,
   "metadata": {},
   "outputs": [
    {
     "ename": "FileNotFoundError",
     "evalue": "[Errno 2] No such file or directory: 'Rank_Correlation_Team_Stats.xlsx'",
     "output_type": "error",
     "traceback": [
      "\u001b[1;31m---------------------------------------------------------------------------\u001b[0m",
      "\u001b[1;31mFileNotFoundError\u001b[0m                         Traceback (most recent call last)",
      "\u001b[1;32m<ipython-input-23-4a67776fffd2>\u001b[0m in \u001b[0;36m<module>\u001b[1;34m\u001b[0m\n\u001b[1;32m----> 1\u001b[1;33m \u001b[0mdf\u001b[0m \u001b[1;33m=\u001b[0m \u001b[0mpd\u001b[0m\u001b[1;33m.\u001b[0m\u001b[0mread_excel\u001b[0m\u001b[1;33m(\u001b[0m\u001b[1;34m\"Rank_Correlation_Team_Stats.xlsx\"\u001b[0m\u001b[1;33m)\u001b[0m\u001b[1;33m\u001b[0m\u001b[1;33m\u001b[0m\u001b[0m\n\u001b[0m\u001b[0;32m      2\u001b[0m \u001b[0mdf\u001b[0m\u001b[1;33m.\u001b[0m\u001b[0mset_index\u001b[0m\u001b[1;33m(\u001b[0m\u001b[1;34m\"Stat\"\u001b[0m\u001b[1;33m,\u001b[0m \u001b[0minplace\u001b[0m\u001b[1;33m=\u001b[0m\u001b[1;32mTrue\u001b[0m\u001b[1;33m)\u001b[0m\u001b[1;33m\u001b[0m\u001b[1;33m\u001b[0m\u001b[0m\n\u001b[0;32m      3\u001b[0m \u001b[0mdf\u001b[0m\u001b[1;33m\u001b[0m\u001b[1;33m\u001b[0m\u001b[0m\n",
      "\u001b[1;32m~\\Anaconda3\\lib\\site-packages\\pandas\\io\\excel\\_base.py\u001b[0m in \u001b[0;36mread_excel\u001b[1;34m(io, sheet_name, header, names, index_col, usecols, squeeze, dtype, engine, converters, true_values, false_values, skiprows, nrows, na_values, keep_default_na, verbose, parse_dates, date_parser, thousands, comment, skipfooter, convert_float, mangle_dupe_cols, **kwds)\u001b[0m\n\u001b[0;32m    302\u001b[0m \u001b[1;33m\u001b[0m\u001b[0m\n\u001b[0;32m    303\u001b[0m     \u001b[1;32mif\u001b[0m \u001b[1;32mnot\u001b[0m \u001b[0misinstance\u001b[0m\u001b[1;33m(\u001b[0m\u001b[0mio\u001b[0m\u001b[1;33m,\u001b[0m \u001b[0mExcelFile\u001b[0m\u001b[1;33m)\u001b[0m\u001b[1;33m:\u001b[0m\u001b[1;33m\u001b[0m\u001b[1;33m\u001b[0m\u001b[0m\n\u001b[1;32m--> 304\u001b[1;33m         \u001b[0mio\u001b[0m \u001b[1;33m=\u001b[0m \u001b[0mExcelFile\u001b[0m\u001b[1;33m(\u001b[0m\u001b[0mio\u001b[0m\u001b[1;33m,\u001b[0m \u001b[0mengine\u001b[0m\u001b[1;33m=\u001b[0m\u001b[0mengine\u001b[0m\u001b[1;33m)\u001b[0m\u001b[1;33m\u001b[0m\u001b[1;33m\u001b[0m\u001b[0m\n\u001b[0m\u001b[0;32m    305\u001b[0m     \u001b[1;32melif\u001b[0m \u001b[0mengine\u001b[0m \u001b[1;32mand\u001b[0m \u001b[0mengine\u001b[0m \u001b[1;33m!=\u001b[0m \u001b[0mio\u001b[0m\u001b[1;33m.\u001b[0m\u001b[0mengine\u001b[0m\u001b[1;33m:\u001b[0m\u001b[1;33m\u001b[0m\u001b[1;33m\u001b[0m\u001b[0m\n\u001b[0;32m    306\u001b[0m         raise ValueError(\n",
      "\u001b[1;32m~\\Anaconda3\\lib\\site-packages\\pandas\\io\\excel\\_base.py\u001b[0m in \u001b[0;36m__init__\u001b[1;34m(self, io, engine)\u001b[0m\n\u001b[0;32m    819\u001b[0m         \u001b[0mself\u001b[0m\u001b[1;33m.\u001b[0m\u001b[0m_io\u001b[0m \u001b[1;33m=\u001b[0m \u001b[0mstringify_path\u001b[0m\u001b[1;33m(\u001b[0m\u001b[0mio\u001b[0m\u001b[1;33m)\u001b[0m\u001b[1;33m\u001b[0m\u001b[1;33m\u001b[0m\u001b[0m\n\u001b[0;32m    820\u001b[0m \u001b[1;33m\u001b[0m\u001b[0m\n\u001b[1;32m--> 821\u001b[1;33m         \u001b[0mself\u001b[0m\u001b[1;33m.\u001b[0m\u001b[0m_reader\u001b[0m \u001b[1;33m=\u001b[0m \u001b[0mself\u001b[0m\u001b[1;33m.\u001b[0m\u001b[0m_engines\u001b[0m\u001b[1;33m[\u001b[0m\u001b[0mengine\u001b[0m\u001b[1;33m]\u001b[0m\u001b[1;33m(\u001b[0m\u001b[0mself\u001b[0m\u001b[1;33m.\u001b[0m\u001b[0m_io\u001b[0m\u001b[1;33m)\u001b[0m\u001b[1;33m\u001b[0m\u001b[1;33m\u001b[0m\u001b[0m\n\u001b[0m\u001b[0;32m    822\u001b[0m \u001b[1;33m\u001b[0m\u001b[0m\n\u001b[0;32m    823\u001b[0m     \u001b[1;32mdef\u001b[0m \u001b[0m__fspath__\u001b[0m\u001b[1;33m(\u001b[0m\u001b[0mself\u001b[0m\u001b[1;33m)\u001b[0m\u001b[1;33m:\u001b[0m\u001b[1;33m\u001b[0m\u001b[1;33m\u001b[0m\u001b[0m\n",
      "\u001b[1;32m~\\Anaconda3\\lib\\site-packages\\pandas\\io\\excel\\_xlrd.py\u001b[0m in \u001b[0;36m__init__\u001b[1;34m(self, filepath_or_buffer)\u001b[0m\n\u001b[0;32m     19\u001b[0m         \u001b[0merr_msg\u001b[0m \u001b[1;33m=\u001b[0m \u001b[1;34m\"Install xlrd >= 1.0.0 for Excel support\"\u001b[0m\u001b[1;33m\u001b[0m\u001b[1;33m\u001b[0m\u001b[0m\n\u001b[0;32m     20\u001b[0m         \u001b[0mimport_optional_dependency\u001b[0m\u001b[1;33m(\u001b[0m\u001b[1;34m\"xlrd\"\u001b[0m\u001b[1;33m,\u001b[0m \u001b[0mextra\u001b[0m\u001b[1;33m=\u001b[0m\u001b[0merr_msg\u001b[0m\u001b[1;33m)\u001b[0m\u001b[1;33m\u001b[0m\u001b[1;33m\u001b[0m\u001b[0m\n\u001b[1;32m---> 21\u001b[1;33m         \u001b[0msuper\u001b[0m\u001b[1;33m(\u001b[0m\u001b[1;33m)\u001b[0m\u001b[1;33m.\u001b[0m\u001b[0m__init__\u001b[0m\u001b[1;33m(\u001b[0m\u001b[0mfilepath_or_buffer\u001b[0m\u001b[1;33m)\u001b[0m\u001b[1;33m\u001b[0m\u001b[1;33m\u001b[0m\u001b[0m\n\u001b[0m\u001b[0;32m     22\u001b[0m \u001b[1;33m\u001b[0m\u001b[0m\n\u001b[0;32m     23\u001b[0m     \u001b[1;33m@\u001b[0m\u001b[0mproperty\u001b[0m\u001b[1;33m\u001b[0m\u001b[1;33m\u001b[0m\u001b[0m\n",
      "\u001b[1;32m~\\Anaconda3\\lib\\site-packages\\pandas\\io\\excel\\_base.py\u001b[0m in \u001b[0;36m__init__\u001b[1;34m(self, filepath_or_buffer)\u001b[0m\n\u001b[0;32m    351\u001b[0m             \u001b[0mself\u001b[0m\u001b[1;33m.\u001b[0m\u001b[0mbook\u001b[0m \u001b[1;33m=\u001b[0m \u001b[0mself\u001b[0m\u001b[1;33m.\u001b[0m\u001b[0mload_workbook\u001b[0m\u001b[1;33m(\u001b[0m\u001b[0mfilepath_or_buffer\u001b[0m\u001b[1;33m)\u001b[0m\u001b[1;33m\u001b[0m\u001b[1;33m\u001b[0m\u001b[0m\n\u001b[0;32m    352\u001b[0m         \u001b[1;32melif\u001b[0m \u001b[0misinstance\u001b[0m\u001b[1;33m(\u001b[0m\u001b[0mfilepath_or_buffer\u001b[0m\u001b[1;33m,\u001b[0m \u001b[0mstr\u001b[0m\u001b[1;33m)\u001b[0m\u001b[1;33m:\u001b[0m\u001b[1;33m\u001b[0m\u001b[1;33m\u001b[0m\u001b[0m\n\u001b[1;32m--> 353\u001b[1;33m             \u001b[0mself\u001b[0m\u001b[1;33m.\u001b[0m\u001b[0mbook\u001b[0m \u001b[1;33m=\u001b[0m \u001b[0mself\u001b[0m\u001b[1;33m.\u001b[0m\u001b[0mload_workbook\u001b[0m\u001b[1;33m(\u001b[0m\u001b[0mfilepath_or_buffer\u001b[0m\u001b[1;33m)\u001b[0m\u001b[1;33m\u001b[0m\u001b[1;33m\u001b[0m\u001b[0m\n\u001b[0m\u001b[0;32m    354\u001b[0m         \u001b[1;32melif\u001b[0m \u001b[0misinstance\u001b[0m\u001b[1;33m(\u001b[0m\u001b[0mfilepath_or_buffer\u001b[0m\u001b[1;33m,\u001b[0m \u001b[0mbytes\u001b[0m\u001b[1;33m)\u001b[0m\u001b[1;33m:\u001b[0m\u001b[1;33m\u001b[0m\u001b[1;33m\u001b[0m\u001b[0m\n\u001b[0;32m    355\u001b[0m             \u001b[0mself\u001b[0m\u001b[1;33m.\u001b[0m\u001b[0mbook\u001b[0m \u001b[1;33m=\u001b[0m \u001b[0mself\u001b[0m\u001b[1;33m.\u001b[0m\u001b[0mload_workbook\u001b[0m\u001b[1;33m(\u001b[0m\u001b[0mBytesIO\u001b[0m\u001b[1;33m(\u001b[0m\u001b[0mfilepath_or_buffer\u001b[0m\u001b[1;33m)\u001b[0m\u001b[1;33m)\u001b[0m\u001b[1;33m\u001b[0m\u001b[1;33m\u001b[0m\u001b[0m\n",
      "\u001b[1;32m~\\Anaconda3\\lib\\site-packages\\pandas\\io\\excel\\_xlrd.py\u001b[0m in \u001b[0;36mload_workbook\u001b[1;34m(self, filepath_or_buffer)\u001b[0m\n\u001b[0;32m     34\u001b[0m             \u001b[1;32mreturn\u001b[0m \u001b[0mopen_workbook\u001b[0m\u001b[1;33m(\u001b[0m\u001b[0mfile_contents\u001b[0m\u001b[1;33m=\u001b[0m\u001b[0mdata\u001b[0m\u001b[1;33m)\u001b[0m\u001b[1;33m\u001b[0m\u001b[1;33m\u001b[0m\u001b[0m\n\u001b[0;32m     35\u001b[0m         \u001b[1;32melse\u001b[0m\u001b[1;33m:\u001b[0m\u001b[1;33m\u001b[0m\u001b[1;33m\u001b[0m\u001b[0m\n\u001b[1;32m---> 36\u001b[1;33m             \u001b[1;32mreturn\u001b[0m \u001b[0mopen_workbook\u001b[0m\u001b[1;33m(\u001b[0m\u001b[0mfilepath_or_buffer\u001b[0m\u001b[1;33m)\u001b[0m\u001b[1;33m\u001b[0m\u001b[1;33m\u001b[0m\u001b[0m\n\u001b[0m\u001b[0;32m     37\u001b[0m \u001b[1;33m\u001b[0m\u001b[0m\n\u001b[0;32m     38\u001b[0m     \u001b[1;33m@\u001b[0m\u001b[0mproperty\u001b[0m\u001b[1;33m\u001b[0m\u001b[1;33m\u001b[0m\u001b[0m\n",
      "\u001b[1;32m~\\Anaconda3\\lib\\site-packages\\xlrd\\__init__.py\u001b[0m in \u001b[0;36mopen_workbook\u001b[1;34m(filename, logfile, verbosity, use_mmap, file_contents, encoding_override, formatting_info, on_demand, ragged_rows)\u001b[0m\n\u001b[0;32m    109\u001b[0m     \u001b[1;32melse\u001b[0m\u001b[1;33m:\u001b[0m\u001b[1;33m\u001b[0m\u001b[1;33m\u001b[0m\u001b[0m\n\u001b[0;32m    110\u001b[0m         \u001b[0mfilename\u001b[0m \u001b[1;33m=\u001b[0m \u001b[0mos\u001b[0m\u001b[1;33m.\u001b[0m\u001b[0mpath\u001b[0m\u001b[1;33m.\u001b[0m\u001b[0mexpanduser\u001b[0m\u001b[1;33m(\u001b[0m\u001b[0mfilename\u001b[0m\u001b[1;33m)\u001b[0m\u001b[1;33m\u001b[0m\u001b[1;33m\u001b[0m\u001b[0m\n\u001b[1;32m--> 111\u001b[1;33m         \u001b[1;32mwith\u001b[0m \u001b[0mopen\u001b[0m\u001b[1;33m(\u001b[0m\u001b[0mfilename\u001b[0m\u001b[1;33m,\u001b[0m \u001b[1;34m\"rb\"\u001b[0m\u001b[1;33m)\u001b[0m \u001b[1;32mas\u001b[0m \u001b[0mf\u001b[0m\u001b[1;33m:\u001b[0m\u001b[1;33m\u001b[0m\u001b[1;33m\u001b[0m\u001b[0m\n\u001b[0m\u001b[0;32m    112\u001b[0m             \u001b[0mpeek\u001b[0m \u001b[1;33m=\u001b[0m \u001b[0mf\u001b[0m\u001b[1;33m.\u001b[0m\u001b[0mread\u001b[0m\u001b[1;33m(\u001b[0m\u001b[0mpeeksz\u001b[0m\u001b[1;33m)\u001b[0m\u001b[1;33m\u001b[0m\u001b[1;33m\u001b[0m\u001b[0m\n\u001b[0;32m    113\u001b[0m     \u001b[1;32mif\u001b[0m \u001b[0mpeek\u001b[0m \u001b[1;33m==\u001b[0m \u001b[1;34mb\"PK\\x03\\x04\"\u001b[0m\u001b[1;33m:\u001b[0m \u001b[1;31m# a ZIP file\u001b[0m\u001b[1;33m\u001b[0m\u001b[1;33m\u001b[0m\u001b[0m\n",
      "\u001b[1;31mFileNotFoundError\u001b[0m: [Errno 2] No such file or directory: 'Rank_Correlation_Team_Stats.xlsx'"
     ]
    }
   ],
   "source": [
    "df = pd.read_excel(\"Rank_Correlation_Team_Stats.xlsx\")\n",
    "df.set_index(\"Stat\", inplace=True)\n",
    "df"
   ]
  },
  {
   "cell_type": "code",
   "execution_count": null,
   "metadata": {},
   "outputs": [],
   "source": [
    "plt.figure(figsize=(15,10))\n",
    "\n",
    "plt.grid()\n",
    "plt.plot(SEASONS, df.loc[\"FG\"], label=\"FG\")\n",
    "plt.plot(SEASONS, df.loc[\"FGA\"], label=\"FGA\")\n",
    "plt.plot(SEASONS, df.loc[\"FG%\"], label=\"FG%\")\n",
    "plt.xticks(SEASONS)\n",
    "plt.yticks([-1.0, -0.75, -0.5, -0.25, 0.0, 0.25, 0.5, 0.75, 1,0])\n",
    "plt.ylabel(\"Correlation\")\n",
    "\n",
    "plt.title(\"Correlation between FGs per game and the final regular season standings\")\n",
    "plt.legend()\n",
    "\n",
    "plt.show()"
   ]
  },
  {
   "cell_type": "code",
   "execution_count": null,
   "metadata": {},
   "outputs": [],
   "source": [
    "plt.figure(figsize=(15,10))\n",
    "\n",
    "plt.grid()\n",
    "plt.plot(SEASONS, df.loc[\"3P\"], label=\"3P\")\n",
    "plt.plot(SEASONS, df.loc[\"3PA\"], label=\"3PA\")\n",
    "plt.plot(SEASONS, df.loc[\"3P%\"], label=\"3P%\")\n",
    "plt.plot(SEASONS, df.loc[\"3PAr\"], label=\"3PAr\")\n",
    "plt.xticks(SEASONS)\n",
    "plt.yticks([-1.0, -0.75, -0.5, -0.25, 0.0, 0.25, 0.5, 0.75, 1,0])\n",
    "plt.ylabel(\"Correlation\")\n",
    "\n",
    "plt.title(\"Correlation between 3Ps per game as a team and the final regular season standings\")\n",
    "plt.legend()\n",
    "\n",
    "plt.show()"
   ]
  },
  {
   "cell_type": "code",
   "execution_count": null,
   "metadata": {},
   "outputs": [],
   "source": [
    "plt.figure(figsize=(15,10))\n",
    "\n",
    "plt.plot(SEASONS, df.loc[\"2P\"], label=\"2P\")\n",
    "plt.plot(SEASONS, df.loc[\"2PA\"], label=\"2PA\")\n",
    "plt.plot(SEASONS, df.loc[\"2P%\"], label=\"2P%\")\n",
    "plt.xticks(SEASONS)\n",
    "plt.yticks([-1.0, -0.75, -0.5, -0.25, 0.0, 0.25, 0.5, 0.75, 1,0])\n",
    "plt.ylabel(\"Correlation\")\n",
    "\n",
    "plt.title(\"Correlation between 2Ps per game as a team and the final regular season standings\")\n",
    "plt.legend()\n",
    "\n",
    "plt.show()"
   ]
  },
  {
   "cell_type": "code",
   "execution_count": null,
   "metadata": {},
   "outputs": [],
   "source": [
    "plt.figure(figsize=(15,10))\n",
    "\n",
    "plt.plot(SEASONS, df.loc[\"FT\"], label=\"FT\")\n",
    "plt.plot(SEASONS, df.loc[\"FTA\"], label=\"FTA\")\n",
    "plt.plot(SEASONS, df.loc[\"FT%\"], label=\"FT%\")\n",
    "plt.plot(SEASONS, df.loc[\"FTr\"], label=\"FTr\")\n",
    "\n",
    "plt.xticks(SEASONS)\n",
    "plt.yticks([-1.0, -0.75, -0.5, -0.25, 0.0, 0.25, 0.5, 0.75, 1,0])\n",
    "plt.ylabel(\"Correlation\")\n",
    "\n",
    "plt.title(\"Correlation between FTs per game as a team and the final regular season standings\")\n",
    "plt.legend()\n",
    "\n",
    "plt.show()"
   ]
  },
  {
   "cell_type": "code",
   "execution_count": null,
   "metadata": {},
   "outputs": [],
   "source": [
    "plt.figure(figsize=(15,10))\n",
    "\n",
    "plt.plot(SEASONS, df.loc[\"ORB\"], label=\"ORB\")\n",
    "plt.plot(SEASONS, df.loc[\"DRB\"], label=\"DRB\")\n",
    "plt.plot(SEASONS, df.loc[\"TRB\"], label=\"TRB\")\n",
    "plt.xticks(SEASONS)\n",
    "plt.yticks([-1.0, -0.75, -0.5, -0.25, 0.0, 0.25, 0.5, 0.75, 1,0])\n",
    "plt.ylabel(\"Correlation\")\n",
    "\n",
    "plt.title(\"Correlation between Rebounds per game as a team and the final regular season standings\")\n",
    "plt.legend()\n",
    "\n",
    "plt.show()"
   ]
  },
  {
   "cell_type": "code",
   "execution_count": null,
   "metadata": {},
   "outputs": [],
   "source": [
    "plt.figure(figsize=(15,10))\n",
    "\n",
    "plt.plot(SEASONS, df.loc[\"AST\"], label=\"AST\")\n",
    "plt.xticks(SEASONS)\n",
    "plt.yticks([-1.0, -0.75, -0.5, -0.25, 0.0, 0.25, 0.5, 0.75, 1,0])\n",
    "plt.ylabel(\"Correlation\")\n",
    "\n",
    "plt.title(\"Correlation between assists per game as a team and the final regular season standings\")\n",
    "plt.legend()\n",
    "\n",
    "plt.show()"
   ]
  },
  {
   "cell_type": "code",
   "execution_count": null,
   "metadata": {},
   "outputs": [],
   "source": [
    "plt.figure(figsize=(15,10))\n",
    "\n",
    "plt.plot(SEASONS, df.loc[\"STL\"], label=\"STL\")\n",
    "plt.plot(SEASONS, df.loc[\"BLK\"], label=\"BLK\")\n",
    "plt.xticks(SEASONS)\n",
    "plt.yticks([-1.0, -0.75, -0.5, -0.25, 0.0, 0.25, 0.5, 0.75, 1,0])\n",
    "plt.ylabel(\"Correlation\")\n",
    "\n",
    "plt.title(\"Correlation between steals and blocks per game as a team and the final regular season standings\")\n",
    "plt.legend()\n",
    "\n",
    "plt.show()"
   ]
  },
  {
   "cell_type": "code",
   "execution_count": null,
   "metadata": {},
   "outputs": [],
   "source": [
    "plt.figure(figsize=(15,10))\n",
    "\n",
    "plt.plot(SEASONS, df.loc[\"TOV\"], label=\"TOs\")\n",
    "plt.xticks(SEASONS)\n",
    "plt.yticks([-1.0, -0.75, -0.5, -0.25, 0.0, 0.25, 0.5, 0.75, 1,0])\n",
    "plt.ylabel(\"Correlation\")\n",
    "\n",
    "plt.title(\"Correlation between turnovers per game as a team and the final regular season standings\")\n",
    "plt.legend()\n",
    "\n",
    "plt.show()"
   ]
  },
  {
   "cell_type": "code",
   "execution_count": null,
   "metadata": {},
   "outputs": [],
   "source": [
    "plt.figure(figsize=(15,10))\n",
    "\n",
    "plt.plot(SEASONS, df.loc[\"PF\"], label=\"PFs\")\n",
    "plt.xticks(SEASONS)\n",
    "plt.yticks([-1.0, -0.75, -0.5, -0.25, 0.0, 0.25, 0.5, 0.75, 1,0])\n",
    "plt.ylabel(\"Correlation\")\n",
    "\n",
    "plt.title(\"Correlation between personal fouls per game as a team and the final regular season standings\")\n",
    "plt.legend()\n",
    "plt.savefig(\"Correlation_PFs_Standings.png\")\n",
    "plt.show()"
   ]
  },
  {
   "cell_type": "code",
   "execution_count": null,
   "metadata": {},
   "outputs": [],
   "source": [
    "plt.figure(figsize=(15,10))\n",
    "\n",
    "plt.plot(SEASONS, df.loc[\"PTS\"], label=\"PPG\")\n",
    "plt.xticks(SEASONS)\n",
    "plt.yticks([-1.0, -0.75, -0.5, -0.25, 0.0, 0.25, 0.5, 0.75, 1,0])\n",
    "plt.ylabel(\"Correlation\")\n",
    "\n",
    "plt.title(\"Correlation between PPG as a team and the final regular season standings\")\n",
    "plt.legend()\n",
    "plt.show()"
   ]
  },
  {
   "cell_type": "code",
   "execution_count": null,
   "metadata": {},
   "outputs": [],
   "source": [
    "plt.figure(figsize=(15,10))\n",
    "\n",
    "plt.plot(SEASONS, df.loc[\"MOV\"], label=\"PPG\")\n",
    "plt.xticks(SEASONS)\n",
    "plt.yticks([-1.0, -0.75, -0.5, -0.25, 0.0, 0.25, 0.5, 0.75, 1,0])\n",
    "plt.ylabel(\"Correlation\")\n",
    "\n",
    "plt.title(\"Correlation between margin of victory and the final regular season standings\")\n",
    "plt.legend()\n",
    "plt.show()"
   ]
  },
  {
   "cell_type": "code",
   "execution_count": null,
   "metadata": {},
   "outputs": [],
   "source": [
    "plt.figure(figsize=(15,10))\n",
    "\n",
    "plt.plot(SEASONS, df.loc[\"SOS\"], label=\"Strength of schedule\")\n",
    "plt.xticks(SEASONS)\n",
    "plt.yticks([-1.0, -0.75, -0.5, -0.25, 0.0, 0.25, 0.5, 0.75, 1,0])\n",
    "plt.ylabel(\"Correlation\")\n",
    "\n",
    "plt.title(\"Correlation betweenstrength of schedule and the final regular season standings\")\n",
    "plt.legend()\n",
    "plt.show()"
   ]
  },
  {
   "cell_type": "code",
   "execution_count": null,
   "metadata": {},
   "outputs": [],
   "source": [
    "plt.figure(figsize=(15,10))\n",
    "\n",
    "plt.plot(SEASONS, df.loc[\"SRS\"], label=\"SRS\")\n",
    "plt.xticks(SEASONS)\n",
    "plt.yticks([-1.0, -0.75, -0.5, -0.25, 0.0, 0.25, 0.5, 0.75, 1,0])\n",
    "plt.ylabel(\"Correlation\")\n",
    "\n",
    "plt.title(\"Correlation between the simple rating system and the final regular season standings\")\n",
    "plt.legend()\n",
    "plt.show()"
   ]
  },
  {
   "cell_type": "code",
   "execution_count": null,
   "metadata": {},
   "outputs": [],
   "source": [
    "plt.figure(figsize=(15,10))\n",
    "\n",
    "plt.plot(SEASONS, df.loc[\"ORtg\"], label=\"ORtg\")\n",
    "plt.xticks(SEASONS)\n",
    "plt.yticks([-1.0, -0.75, -0.5, -0.25, 0.0, 0.25, 0.5, 0.75, 1,0])\n",
    "plt.ylabel(\"Correlation\")\n",
    "\n",
    "plt.title(\"Correlation between rating and the final regular season standings\")\n",
    "plt.legend()\n",
    "plt.show()"
   ]
  },
  {
   "cell_type": "code",
   "execution_count": null,
   "metadata": {},
   "outputs": [],
   "source": [
    "plt.figure(figsize=(15,10))\n",
    "\n",
    "plt.plot(SEASONS, df.loc[\"ORtg\"], label=\"ORtg\")\n",
    "plt.plot(SEASONS, df.loc[\"DRtg\"], label=\"DRtg\")\n",
    "plt.plot(SEASONS, df.loc[\"NRtg\"], label=\"NRtg\")\n",
    "plt.xticks(SEASONS)\n",
    "plt.yticks([-1.0, -0.75, -0.5, -0.25, 0.0, 0.25, 0.5, 0.75, 1,0])\n",
    "plt.ylabel(\"Correlation\")\n",
    "\n",
    "plt.title(\"Correlation between rating and the final regular season standings\")\n",
    "plt.legend()\n",
    "plt.show()"
   ]
  },
  {
   "cell_type": "code",
   "execution_count": null,
   "metadata": {},
   "outputs": [],
   "source": [
    "plt.figure(figsize=(15,10))\n",
    "\n",
    "plt.plot(SEASONS, df.loc[\"TS%\"], label=\"TS%\")\n",
    "plt.xticks(SEASONS)\n",
    "plt.yticks([-1.0, -0.75, -0.5, -0.25, 0.0, 0.25, 0.5, 0.75, 1,0])\n",
    "plt.ylabel(\"Correlation\")\n",
    "\n",
    "plt.title(\"Correlation between true shooting percetnage and the final regular season standings\")\n",
    "plt.legend()\n",
    "plt.show()"
   ]
  },
  {
   "cell_type": "code",
   "execution_count": null,
   "metadata": {},
   "outputs": [],
   "source": [
    "plt.figure(figsize=(15,10))\n",
    "\n",
    "plt.plot(SEASONS, df.loc[\"Off_eFG%\"], label=\"Offensive eFG%\")\n",
    "plt.xticks(SEASONS)\n",
    "plt.yticks([-1.0, -0.75, -0.5, -0.25, 0.0, 0.25, 0.5, 0.75, 1,0])\n",
    "plt.ylabel(\"Correlation\")\n",
    "\n",
    "plt.title(\"Correlation between offensive effective fiel goal percetnage and the final regular season standings\")\n",
    "plt.legend()\n",
    "plt.show()"
   ]
  },
  {
   "cell_type": "code",
   "execution_count": null,
   "metadata": {},
   "outputs": [],
   "source": [
    "plt.figure(figsize=(15,10))\n",
    "\n",
    "plt.plot(SEASONS, df.loc[\"Off_TOV%\"], label=\"Offensive TO%\")\n",
    "plt.xticks(SEASONS)\n",
    "plt.yticks([-1.0, -0.75, -0.5, -0.25, 0.0, 0.25, 0.5, 0.75, 1,0])\n",
    "plt.ylabel(\"Correlation\")\n",
    "\n",
    "plt.title(\"Correlation between offensive turnover percetnage and the final regular season standings\")\n",
    "plt.legend()\n",
    "plt.show()"
   ]
  },
  {
   "cell_type": "code",
   "execution_count": null,
   "metadata": {},
   "outputs": [],
   "source": [
    "plt.figure(figsize=(15,10))\n",
    "\n",
    "plt.plot(SEASONS, df.loc[\"Off_ORB%\"], label=\"Offensive rebound%\")\n",
    "plt.xticks(SEASONS)\n",
    "plt.yticks([-1.0, -0.75, -0.5, -0.25, 0.0, 0.25, 0.5, 0.75, 1,0])\n",
    "plt.ylabel(\"Correlation\")\n",
    "\n",
    "plt.title(\"Correlation between offensive rebound percetnage and the final regular season standings\")\n",
    "plt.legend()\n",
    "plt.show()"
   ]
  },
  {
   "cell_type": "code",
   "execution_count": null,
   "metadata": {},
   "outputs": [],
   "source": [
    "plt.figure(figsize=(15,10))\n",
    "\n",
    "plt.grid()\n",
    "plt.plot(SEASONS, df.loc[\"Off_FT/FGA\"], label=\"Offensive free throw per field goal attempt\")\n",
    "plt.xticks(SEASONS)\n",
    "plt.yticks([-1.0, -0.75, -0.5, -0.25, 0.0, 0.25, 0.5, 0.75, 1,0])\n",
    "plt.ylabel(\"Correlation\")\n",
    "\n",
    "plt.title(\"Correlation between free throw per field goal attempt and the final regular season standings\")\n",
    "plt.legend()\n",
    "plt.show()"
   ]
  },
  {
   "cell_type": "code",
   "execution_count": null,
   "metadata": {},
   "outputs": [],
   "source": [
    "plt.figure(figsize=(15,10))\n",
    "\n",
    "plt.plot(SEASONS, df.loc[\"Def_eFG%\"], label=\"Defensive eFG%\")\n",
    "plt.xticks(SEASONS)\n",
    "plt.yticks([-1.0, -0.75, -0.5, -0.25, 0.0, 0.25, 0.5, 0.75, 1,0])\n",
    "plt.ylabel(\"Correlation\")\n",
    "\n",
    "plt.title(\"Correlation between defensive effective fiel goal percetnage and the final regular season standings\")\n",
    "plt.legend()\n",
    "plt.show()"
   ]
  },
  {
   "cell_type": "code",
   "execution_count": null,
   "metadata": {},
   "outputs": [],
   "source": [
    "plt.figure(figsize=(15,10))\n",
    "\n",
    "plt.plot(SEASONS, df.loc[\"Def_TOV%\"], label=\"Defensive TO%\")\n",
    "plt.xticks(SEASONS)\n",
    "plt.yticks([-1.0, -0.75, -0.5, -0.25, 0.0, 0.25, 0.5, 0.75, 1,0])\n",
    "plt.ylabel(\"Correlation\")\n",
    "\n",
    "plt.title(\"Correlation between defensive turnover percetnage and the final regular season standings\")\n",
    "plt.legend()\n",
    "plt.show()"
   ]
  },
  {
   "cell_type": "code",
   "execution_count": null,
   "metadata": {},
   "outputs": [],
   "source": [
    "plt.figure(figsize=(15,10))\n",
    "\n",
    "plt.plot(SEASONS, df.loc[\"Def_DRB%\"], label=\"Defensive rebound%\")\n",
    "plt.xticks(SEASONS)\n",
    "plt.yticks([-1.0, -0.75, -0.5, -0.25, 0.0, 0.25, 0.5, 0.75, 1,0])\n",
    "plt.ylabel(\"Correlation\")\n",
    "\n",
    "plt.title(\"Correlation between Defensive rebound percetnage and the final regular season standings\")\n",
    "plt.legend()\n",
    "plt.show()"
   ]
  },
  {
   "cell_type": "code",
   "execution_count": null,
   "metadata": {
    "scrolled": true
   },
   "outputs": [],
   "source": [
    "plt.figure(figsize=(15,10))\n",
    "\n",
    "plt.plot(SEASONS, df.loc[\"Def_FT/FGA\"], label=\"Defensive free throw per field goal attempt\")\n",
    "plt.xticks(SEASONS)\n",
    "plt.yticks([-1.0, -0.75, -0.5, -0.25, 0.0, 0.25, 0.5, 0.75, 1,0])\n",
    "plt.ylabel(\"Correlation\")\n",
    "\n",
    "plt.title(\"Correlation between free throw per field goal attempt on the defense and the final regular season standings\")\n",
    "plt.legend()\n",
    "plt.show()"
   ]
  },
  {
   "cell_type": "code",
   "execution_count": null,
   "metadata": {
    "scrolled": false
   },
   "outputs": [],
   "source": [
    "plt.figure(figsize=(15,10))\n",
    "\n",
    "plt.plot(SEASONS, df.loc[\"Attend./G\"], label=\"Attendance per game\")\n",
    "plt.xticks(SEASONS)\n",
    "plt.yticks([-1.0, -0.75, -0.5, -0.25, 0.0, 0.25, 0.5, 0.75, 1,0])\n",
    "plt.ylabel(\"Correlation\")\n",
    "\n",
    "plt.title(\"Correlation betwee fan attendance per game and the final regular season standings\")\n",
    "plt.legend()\n",
    "plt.show()"
   ]
  },
  {
   "cell_type": "code",
   "execution_count": null,
   "metadata": {},
   "outputs": [],
   "source": [
    "player_df = pd.read_excel(\"Rank_Correlation_Player_Stats.xlsx\")\n",
    "player_df.set_index([\"Stat\", \"Measure\"], inplace=True)\n",
    "player_df"
   ]
  },
  {
   "cell_type": "code",
   "execution_count": null,
   "metadata": {},
   "outputs": [],
   "source": []
  },
  {
   "cell_type": "code",
   "execution_count": null,
   "metadata": {},
   "outputs": [],
   "source": [
    "plt.figure(figsize=(15,10))\n",
    "\n",
    "plt.plot(SEASONS, player_df.loc[\"Age\", \"mean\"], label=\"Age mean\")\n",
    "plt.plot(SEASONS, player_df.loc[\"Age\", \"max\"], label=\"Max age\")\n",
    "plt.plot(SEASONS, player_df.loc[\"Age\", \"sd\"], label=\"Age sd\")\n",
    "plt.xticks(SEASONS)\n",
    "plt.yticks([-1.0, -0.75, -0.5, -0.25, 0.0, 0.25, 0.5, 0.75, 1,0])\n",
    "plt.ylabel(\"Correlation\")\n",
    "\n",
    "plt.title(\"Correlation between age of the players and the final regular season standings\")\n",
    "plt.legend()\n",
    "plt.show()"
   ]
  },
  {
   "cell_type": "code",
   "execution_count": null,
   "metadata": {},
   "outputs": [],
   "source": [
    "plt.figure(figsize=(15,10))\n",
    "\n",
    "plt.plot(SEASONS, player_df.loc[\"FG\", \"sd\"], label=\"FG sd\")\n",
    "plt.xticks(SEASONS)\n",
    "plt.yticks([-1.0, -0.75, -0.5, -0.25, 0.0, 0.25, 0.5, 0.75, 1,0])\n",
    "plt.ylabel(\"Correlation\")\n",
    "\n",
    "plt.title(\"Correlation between made field goals standard deviation between the players and the final regular season standings\")\n",
    "plt.legend()\n",
    "plt.show()"
   ]
  },
  {
   "cell_type": "code",
   "execution_count": null,
   "metadata": {},
   "outputs": [],
   "source": [
    "plt.figure(figsize=(15,10))\n",
    "\n",
    "plt.plot(SEASONS, player_df.loc[\"FTA\", \"max\"], label=\"FTA max\")\n",
    "plt.xticks(SEASONS)\n",
    "plt.yticks([-1.0, -0.75, -0.5, -0.25, 0.0, 0.25, 0.5, 0.75, 1,0])\n",
    "plt.ylabel(\"Correlation\")\n",
    "\n",
    "plt.title(\"Correlation between players with the most FTA and the final regular season standings\")\n",
    "plt.legend()\n",
    "plt.show()"
   ]
  },
  {
   "cell_type": "code",
   "execution_count": null,
   "metadata": {},
   "outputs": [],
   "source": [
    "plt.figure(figsize=(15,10))\n",
    "\n",
    "plt.plot(SEASONS, player_df.loc[\"PTS\", \"mean\"], label=\"PTS mean\")\n",
    "plt.plot(SEASONS, player_df.loc[\"PTS\", \"sd\"], label=\"PTS sd\")\n",
    "plt.plot(SEASONS, player_df.loc[\"PTS\", \"max\"], label=\"PTS max\")\n",
    "plt.xticks(SEASONS)\n",
    "plt.yticks([-1.0, -0.75, -0.5, -0.25, 0.0, 0.25, 0.5, 0.75, 1,0])\n",
    "plt.ylabel(\"Correlation\")\n",
    "\n",
    "plt.title(\"Correlation between PTS and the final regular season standings\")\n",
    "plt.legend()\n",
    "plt.show()"
   ]
  },
  {
   "cell_type": "code",
   "execution_count": null,
   "metadata": {},
   "outputs": [],
   "source": [
    "plt.figure(figsize=(15,10))\n",
    "\n",
    "plt.plot(SEASONS, player_df.loc[\"PER\", \"mean\"], label=\"PER mean\")\n",
    "plt.plot(SEASONS, player_df.loc[\"PER\", \"sd\"], label=\"PER sd\")\n",
    "plt.plot(SEASONS, player_df.loc[\"PER\", \"max\"], label=\"PER max\")\n",
    "plt.xticks(SEASONS)\n",
    "plt.yticks([-1.0, -0.75, -0.5, -0.25, 0.0, 0.25, 0.5, 0.75, 1,0])\n",
    "plt.ylabel(\"Correlation\")\n",
    "\n",
    "plt.title(\"Correlation between PER and the final regular season standings\")\n",
    "plt.legend()\n",
    "plt.show()"
   ]
  },
  {
   "cell_type": "code",
   "execution_count": null,
   "metadata": {},
   "outputs": [],
   "source": [
    "plt.figure(figsize=(15,10))\n",
    "\n",
    "plt.plot(SEASONS, player_df.loc[\"TS%\", \"mean\"], label=\"TS% mean\")\n",
    "plt.plot(SEASONS, player_df.loc[\"TS%\", \"sd\"], label=\"TS% sd\")\n",
    "plt.plot(SEASONS, player_df.loc[\"TS%\", \"max\"], label=\"TS% max\")\n",
    "plt.xticks(SEASONS)\n",
    "plt.yticks([-1.0, -0.75, -0.5, -0.25, 0.0, 0.25, 0.5, 0.75, 1,0])\n",
    "plt.ylabel(\"Correlation\")\n",
    "\n",
    "plt.title(\"Correlation between true shooting % and the final regular season standings\")\n",
    "plt.legend()\n",
    "plt.show()"
   ]
  },
  {
   "cell_type": "code",
   "execution_count": null,
   "metadata": {},
   "outputs": [],
   "source": [
    "plt.figure(figsize=(15,10))\n",
    "\n",
    "plt.plot(SEASONS, player_df.loc[\"OWS\", \"mean\"], label=\"OWS mean\")\n",
    "plt.plot(SEASONS, player_df.loc[\"OWS\", \"sd\"], label=\"OWS sd\")\n",
    "plt.plot(SEASONS, player_df.loc[\"OWS\", \"max\"], label=\"OWS max\")\n",
    "plt.xticks(SEASONS)\n",
    "plt.yticks([-1.0, -0.75, -0.5, -0.25, 0.0, 0.25, 0.5, 0.75, 1,0])\n",
    "plt.ylabel(\"Correlation\")\n",
    "\n",
    "plt.title(\"Correlation between offensive win share and the final regular season standings\")\n",
    "plt.legend()\n",
    "plt.show()"
   ]
  },
  {
   "cell_type": "code",
   "execution_count": null,
   "metadata": {},
   "outputs": [],
   "source": [
    "plt.figure(figsize=(15,10))\n",
    "\n",
    "plt.plot(SEASONS, player_df.loc[\"DWS\", \"mean\"], label=\"DWS mean\")\n",
    "plt.plot(SEASONS, player_df.loc[\"DWS\", \"sd\"], label=\"DWS sd\")\n",
    "plt.plot(SEASONS, player_df.loc[\"DWS\", \"max\"], label=\"DWS max\")\n",
    "plt.xticks(SEASONS)\n",
    "plt.yticks([-1.0, -0.75, -0.5, -0.25, 0.0, 0.25, 0.5, 0.75, 1,0])\n",
    "plt.ylabel(\"Correlation\")\n",
    "\n",
    "plt.title(\"Correlation between deffensive win share and the final regular season standings\")\n",
    "plt.legend()\n",
    "plt.show()"
   ]
  },
  {
   "cell_type": "code",
   "execution_count": null,
   "metadata": {},
   "outputs": [],
   "source": [
    "plt.figure(figsize=(15,10))\n",
    "\n",
    "plt.plot(SEASONS, player_df.loc[\"WS\", \"mean\"], label=\"WS mean\")\n",
    "plt.plot(SEASONS, player_df.loc[\"WS\", \"sd\"], label=\"WS sd\")\n",
    "plt.plot(SEASONS, player_df.loc[\"WS\", \"max\"], label=\"WS max\")\n",
    "plt.xticks(SEASONS)\n",
    "plt.yticks([-1.0, -0.75, -0.5, -0.25, 0.0, 0.25, 0.5, 0.75, 1,0])\n",
    "plt.ylabel(\"Correlation\")\n",
    "\n",
    "plt.title(\"Correlation between win share and the final regular season standings\")\n",
    "plt.legend()\n",
    "plt.show()"
   ]
  },
  {
   "cell_type": "code",
   "execution_count": null,
   "metadata": {},
   "outputs": [],
   "source": [
    "plt.figure(figsize=(15,10))\n",
    "\n",
    "plt.plot(SEASONS, player_df.loc[\"USG%\", \"mean\"], label=\"USG% mean\")\n",
    "plt.plot(SEASONS, player_df.loc[\"USG%\", \"sd\"], label=\"USG% sd\")\n",
    "plt.plot(SEASONS, player_df.loc[\"USG%\", \"max\"], label=\"USG% max\")\n",
    "plt.xticks(SEASONS)\n",
    "plt.yticks([-1.0, -0.75, -0.5, -0.25, 0.0, 0.25, 0.5, 0.75, 1,0])\n",
    "plt.ylabel(\"Correlation\")\n",
    "\n",
    "plt.title(\"Correlation between usage and the final regular season standings\")\n",
    "plt.legend()\n",
    "plt.show()"
   ]
  },
  {
   "cell_type": "code",
   "execution_count": null,
   "metadata": {},
   "outputs": [],
   "source": [
    "plt.figure(figsize=(15,10))\n",
    "\n",
    "plt.plot(SEASONS, player_df.loc[\"Salary\", \"mean\"], label=\"Salary mean\")\n",
    "plt.plot(SEASONS, player_df.loc[\"Salary\", \"sd\"], label=\"Salary sd\")\n",
    "plt.plot(SEASONS, player_df.loc[\"Salary\", \"max\"], label=\"Salary max\")\n",
    "plt.xticks(SEASONS)\n",
    "plt.yticks([-1.0, -0.75, -0.5, -0.25, 0.0, 0.25, 0.5, 0.75, 1,0])\n",
    "plt.ylabel(\"Correlation\")\n",
    "\n",
    "plt.title(\"Correlation between salary and the final regular season standings\")\n",
    "plt.legend()\n",
    "plt.show()"
   ]
  },
  {
   "cell_type": "code",
   "execution_count": null,
   "metadata": {},
   "outputs": [],
   "source": []
  }
 ],
 "metadata": {
  "kernelspec": {
   "display_name": "Python 3",
   "language": "python",
   "name": "python3"
  },
  "language_info": {
   "codemirror_mode": {
    "name": "ipython",
    "version": 3
   },
   "file_extension": ".py",
   "mimetype": "text/x-python",
   "name": "python",
   "nbconvert_exporter": "python",
   "pygments_lexer": "ipython3",
   "version": "3.7.6"
  }
 },
 "nbformat": 4,
 "nbformat_minor": 4
}
