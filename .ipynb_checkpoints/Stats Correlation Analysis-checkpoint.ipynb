{
 "cells": [
  {
   "cell_type": "code",
   "execution_count": 41,
   "metadata": {},
   "outputs": [],
   "source": [
    "import pandas as pd\n",
    "import matplotlib.pyplot as plt\n",
    "import matplotlib.pylab as pylab\n",
    "import math\n",
    "import numpy as np\n",
    "import xlsxwriter\n",
    "from openpyxl import load_workbook\n",
    "\n",
    "from ipynb.fs.full.UtilCollections import CURRENT_TEAMS, PARAMS, SEASONS, TEAM_STATS\n",
    "from ipynb.fs.full.UtilFunctions import merge_standings, format_season, spearman_rank_corr"
   ]
  },
  {
   "cell_type": "code",
   "execution_count": 51,
   "metadata": {},
   "outputs": [],
   "source": [
    "SEASONS = SEASONS[3:]"
   ]
  },
  {
   "cell_type": "code",
   "execution_count": 3,
   "metadata": {},
   "outputs": [],
   "source": [
    "pylab.rcParams.update(PARAMS)"
   ]
  },
  {
   "cell_type": "code",
   "execution_count": 35,
   "metadata": {},
   "outputs": [],
   "source": [
    "def calculate_rank_corr_by_player_stat(df, eastern_standings, western_standings, stat, measure=\"mean\"): #measure might be mean, sd or max\n",
    "    if measure == \"mean\":\n",
    "        grouped_df = pd.DataFrame(df.groupby(by=['Tm']).mean())\n",
    "    elif measure == \"sd\":\n",
    "        grouped_df = pd.DataFrame(df.groupby(by=['Tm']).std())\n",
    "    elif measure == \"max\":\n",
    "        grouped_df = pd.DataFrame(df.groupby(by=['Tm']).max())\n",
    "    grouped_df.sort_values(by=[stat, 'Tm'], ascending=[False, True], inplace=True)\n",
    "    \n",
    "    teams = list(grouped_df.index)\n",
    "    if \"TOT\" in teams:\n",
    "        teams.remove(\"TOT\")\n",
    "    \n",
    "    rank = range(1, 31)\n",
    "    teams_ordered_by_stat = dict(zip(teams, rank))\n",
    "    standings = merge_standings(eastern_standings, western_standings)\n",
    "        \n",
    "    rank1 = []\n",
    "    rank2 = []\n",
    "    for team in CURRENT_TEAMS:\n",
    "        if team in standings:\n",
    "            rank1.append(teams_ordered_by_stat[team])\n",
    "            rank2.append(standings[team])\n",
    "\n",
    "    return spearman_rank_corr(rank1, rank2)"
   ]
  },
  {
   "cell_type": "code",
   "execution_count": 37,
   "metadata": {},
   "outputs": [],
   "source": [
    "def calculate_rank_corr_by_team_stat(df, eastern_standings, western_standings, stat):\n",
    "    \n",
    "    corr_df = df.sort_values(by=[stat, 'Team'], ascending=[False, True])\n",
    "    \n",
    "    corr_df.set_index('Team', inplace=True)\n",
    "    \n",
    "    teams = list(corr_df.index)\n",
    "    rank = range(1, 31)\n",
    "    teams_ordered_by_stat = dict(zip(teams, rank))\n",
    "    \n",
    "    standings = merge_standings(eastern_standings, western_standings)\n",
    "    \n",
    "    \n",
    "    rank1 = []\n",
    "    rank2 = []\n",
    "    for team in CURRENT_TEAMS:\n",
    "        if team in standings:\n",
    "            rank1.append(teams_ordered_by_stat[team])\n",
    "            rank2.append(standings[team])\n",
    "\n",
    "    return spearman_rank_corr(rank1, rank2)"
   ]
  },
  {
   "cell_type": "code",
   "execution_count": 6,
   "metadata": {},
   "outputs": [],
   "source": [
    "def rank_player_corrs_to_excel(dfs, eastern_standings_dfs, western_standings_dfs, stat, measure=\"mean\"):\n",
    "    corrs = [stat, measure]\n",
    "    \n",
    "    for i in range(len(dfs)):\n",
    "        corrs.append(calculate_rank_corr_by_player_stat(dfs[i], eastern_standings_dfs[i], western_standings_dfs[i], stat, measure))\n",
    "        \n",
    "    wb = load_workbook(\"Rank_Correlation_Player_Stats.xlsx\")\n",
    "    ws = wb.worksheets[0]    \n",
    "    ws.append(corrs)\n",
    "    wb.save(\"Rank_Correlation_Player_Stats.xlsx\")"
   ]
  },
  {
   "cell_type": "code",
   "execution_count": 44,
   "metadata": {},
   "outputs": [],
   "source": [
    "def rank_team_corrs_to_excel(dfs, eastern_standings_dfs, western_standings_dfs, stat):\n",
    "    corrs = [stat]\n",
    "    \n",
    "    for i in range(len(dfs)):\n",
    "        corrs.append(calculate_rank_corr_by_team_stat(dfs[i], eastern_standings_dfs[i], western_standings_dfs[i], stat))\n",
    "        \n",
    "    wb = load_workbook(\"DataCollection/Correlation/Rank_Correlation_Team_Stats.xlsx\")\n",
    "    ws = wb.worksheets[0]    \n",
    "    ws.append(corrs)\n",
    "    wb.save(\"DataCollection/Correlation/Rank_Correlation_Team_Stats.xlsx\")"
   ]
  },
  {
   "cell_type": "code",
   "execution_count": 10,
   "metadata": {},
   "outputs": [],
   "source": [
    "def get_csvs_by_season(season):\n",
    "    first_year, second_year = format_season(season)\n",
    "\n",
    "    player_df = pd.read_csv(\"DataCollection/Player_Stats/player_stats_{0}-{1}.csv\".format(first_year, second_year))\n",
    "    team_df = pd.read_csv(\"DataCollection/Team_Stats/team_stats_{0}-{1}.csv\".format(first_year, second_year))\n",
    "    adv_team_df = pd.read_csv(\"DataCollection/Advanced_Team_Stats/adv_team_stats_{0}-{1}.csv\".format(first_year, second_year))\n",
    "    opponent_df = pd.read_csv(\"DataCollection/Opponent_Stats/opponent_stats_{0}-{1}.csv\".format(first_year, second_year))\n",
    "    eastern_standings_df = pd.read_csv(\"DataCollection/Standings/standings_eastern_conference_{0}-{1}.csv\".format(first_year, second_year))\n",
    "    western_standings_df = pd.read_csv(\"DataCollection/Standings/standings_western_conference_{0}-{1}.csv\".format(first_year, second_year))\n",
    "\n",
    "    return player_df, team_df, adv_team_df, opponent_df, eastern_standings_df, western_standings_df"
   ]
  },
  {
   "cell_type": "code",
   "execution_count": 29,
   "metadata": {},
   "outputs": [],
   "source": [
    "player_dfs, team_dfs, adv_team_dfs, opponent_dfs, eastern_standings_dfs, western_standings_dfs = [], [], [], [], [], []\n",
    "\n",
    "for season in SEASONS:\n",
    "    player_df, team_df, adv_team_df, opponent_df, eastern_standings_df, western_standings_df = get_csvs_by_season(season)\n",
    "    player_dfs.append(player_df)\n",
    "    team_dfs.append(team_df)\n",
    "    adv_team_dfs.append(adv_team_df)\n",
    "    opponent_dfs.append(opponent_df)\n",
    "    eastern_standings_dfs.append(eastern_standings_df)\n",
    "    western_standings_dfs.append(western_standings_df)"
   ]
  },
  {
   "cell_type": "code",
   "execution_count": 33,
   "metadata": {},
   "outputs": [],
   "source": [
    "complete_team_dfs = []\n",
    "\n",
    "for i in range(len(team_dfs)):\n",
    "    complete_team_dfs.append(pd.merge(team_dfs[i], adv_team_dfs[i]))"
   ]
  },
  {
   "cell_type": "code",
   "execution_count": 45,
   "metadata": {
    "scrolled": true
   },
   "outputs": [],
   "source": [
    "for stat in TEAM_STATS:\n",
    "    rank_team_corrs_to_excel(complete_team_dfs, eastern_standings_dfs, western_standings_dfs, stat)"
   ]
  },
  {
   "cell_type": "code",
   "execution_count": 48,
   "metadata": {},
   "outputs": [],
   "source": [
    "df = pd.read_excel(\"DataCollection/Correlation/Rank_Correlation_Team_Stats.xlsx\")\n",
    "df.set_index(\"Stat\", inplace=True)"
   ]
  },
  {
   "cell_type": "code",
   "execution_count": null,
   "metadata": {},
   "outputs": [],
   "source": [
    "def plot_stat(seasons, stats):\n",
    "    plt.figure(figsize=(15,10), dpi=80)\n",
    "\n",
    "    plt.grid()\n",
    "    for stat in stats: \n",
    "        plt.plot(SEASONS, df.loc[\"FG\"], label=\"FG\")\n",
    "        plt.plot(SEASONS, df.loc[\"FGA\"], label=\"FGA\")\n",
    "        plt.plot(SEASONS, df.loc[\"FG%\"], label=\"FG%\")\n",
    "\n",
    "        plt.xticks(SEASONS)\n",
    "    plt.yticks([-1.0, -0.75, -0.5, -0.25, 0.0, 0.25, 0.5, 0.75, 1,0])\n",
    "    plt.ylabel(\"Correlation\")\n",
    "\n",
    "    plt.title(\"Correlation between FGs per game and the final regular season standings\")\n",
    "    plt.legend()\n",
    "\n",
    "    plt.show()    "
   ]
  },
  {
   "cell_type": "code",
   "execution_count": 52,
   "metadata": {},
   "outputs": [
    {
     "data": {
      "image/png": "[encoded data removed]",
      "text/plain": [
       "<Figure size 1080x720 with 1 Axes>"
      ]
     },
     "metadata": {
      "needs_background": "light"
     },
     "output_type": "display_data"
    }
   ],
   "source": [
    "plt.figure(figsize=(15,10))\n",
    "\n",
    "plt.grid()\n",
    "plt.plot(SEASONS, df.loc[\"FG\"], label=\"FG\")\n",
    "plt.plot(SEASONS, df.loc[\"FGA\"], label=\"FGA\")\n",
    "plt.plot(SEASONS, df.loc[\"FG%\"], label=\"FG%\")\n",
    "plt.xticks(SEASONS)\n",
    "plt.yticks([-1.0, -0.75, -0.5, -0.25, 0.0, 0.25, 0.5, 0.75, 1,0])\n",
    "plt.ylabel(\"Correlation\")\n",
    "\n",
    "plt.title(\"Correlation between FGs per game and the final regular season standings\")\n",
    "plt.legend()\n",
    "\n",
    "plt.show()"
   ]
  },
  {
   "cell_type": "code",
   "execution_count": null,
   "metadata": {},
   "outputs": [],
   "source": [
    "plt.figure(figsize=(15,10))\n",
    "\n",
    "plt.grid()\n",
    "plt.plot(SEASONS, df.loc[\"3P\"], label=\"3P\")\n",
    "plt.plot(SEASONS, df.loc[\"3PA\"], label=\"3PA\")\n",
    "plt.plot(SEASONS, df.loc[\"3P%\"], label=\"3P%\")\n",
    "plt.plot(SEASONS, df.loc[\"3PAr\"], label=\"3PAr\")\n",
    "plt.xticks(SEASONS)\n",
    "plt.yticks([-1.0, -0.75, -0.5, -0.25, 0.0, 0.25, 0.5, 0.75, 1,0])\n",
    "plt.ylabel(\"Correlation\")\n",
    "\n",
    "plt.title(\"Correlation between 3Ps per game as a team and the final regular season standings\")\n",
    "plt.legend()\n",
    "\n",
    "plt.show()"
   ]
  },
  {
   "cell_type": "code",
   "execution_count": null,
   "metadata": {},
   "outputs": [],
   "source": [
    "plt.figure(figsize=(15,10))\n",
    "\n",
    "plt.plot(SEASONS, df.loc[\"2P\"], label=\"2P\")\n",
    "plt.plot(SEASONS, df.loc[\"2PA\"], label=\"2PA\")\n",
    "plt.plot(SEASONS, df.loc[\"2P%\"], label=\"2P%\")\n",
    "plt.xticks(SEASONS)\n",
    "plt.yticks([-1.0, -0.75, -0.5, -0.25, 0.0, 0.25, 0.5, 0.75, 1,0])\n",
    "plt.ylabel(\"Correlation\")\n",
    "\n",
    "plt.title(\"Correlation between 2Ps per game as a team and the final regular season standings\")\n",
    "plt.legend()\n",
    "\n",
    "plt.show()"
   ]
  },
  {
   "cell_type": "code",
   "execution_count": null,
   "metadata": {},
   "outputs": [],
   "source": [
    "plt.figure(figsize=(15,10))\n",
    "\n",
    "plt.plot(SEASONS, df.loc[\"FT\"], label=\"FT\")\n",
    "plt.plot(SEASONS, df.loc[\"FTA\"], label=\"FTA\")\n",
    "plt.plot(SEASONS, df.loc[\"FT%\"], label=\"FT%\")\n",
    "plt.plot(SEASONS, df.loc[\"FTr\"], label=\"FTr\")\n",
    "\n",
    "plt.xticks(SEASONS)\n",
    "plt.yticks([-1.0, -0.75, -0.5, -0.25, 0.0, 0.25, 0.5, 0.75, 1,0])\n",
    "plt.ylabel(\"Correlation\")\n",
    "\n",
    "plt.title(\"Correlation between FTs per game as a team and the final regular season standings\")\n",
    "plt.legend()\n",
    "\n",
    "plt.show()"
   ]
  },
  {
   "cell_type": "code",
   "execution_count": null,
   "metadata": {},
   "outputs": [],
   "source": [
    "plt.figure(figsize=(15,10))\n",
    "\n",
    "plt.plot(SEASONS, df.loc[\"ORB\"], label=\"ORB\")\n",
    "plt.plot(SEASONS, df.loc[\"DRB\"], label=\"DRB\")\n",
    "plt.plot(SEASONS, df.loc[\"TRB\"], label=\"TRB\")\n",
    "plt.xticks(SEASONS)\n",
    "plt.yticks([-1.0, -0.75, -0.5, -0.25, 0.0, 0.25, 0.5, 0.75, 1,0])\n",
    "plt.ylabel(\"Correlation\")\n",
    "\n",
    "plt.title(\"Correlation between Rebounds per game as a team and the final regular season standings\")\n",
    "plt.legend()\n",
    "\n",
    "plt.show()"
   ]
  },
  {
   "cell_type": "code",
   "execution_count": null,
   "metadata": {},
   "outputs": [],
   "source": [
    "plt.figure(figsize=(15,10))\n",
    "\n",
    "plt.plot(SEASONS, df.loc[\"AST\"], label=\"AST\")\n",
    "plt.xticks(SEASONS)\n",
    "plt.yticks([-1.0, -0.75, -0.5, -0.25, 0.0, 0.25, 0.5, 0.75, 1,0])\n",
    "plt.ylabel(\"Correlation\")\n",
    "\n",
    "plt.title(\"Correlation between assists per game as a team and the final regular season standings\")\n",
    "plt.legend()\n",
    "\n",
    "plt.show()"
   ]
  },
  {
   "cell_type": "code",
   "execution_count": null,
   "metadata": {},
   "outputs": [],
   "source": [
    "plt.figure(figsize=(15,10))\n",
    "\n",
    "plt.plot(SEASONS, df.loc[\"STL\"], label=\"STL\")\n",
    "plt.plot(SEASONS, df.loc[\"BLK\"], label=\"BLK\")\n",
    "plt.xticks(SEASONS)\n",
    "plt.yticks([-1.0, -0.75, -0.5, -0.25, 0.0, 0.25, 0.5, 0.75, 1,0])\n",
    "plt.ylabel(\"Correlation\")\n",
    "\n",
    "plt.title(\"Correlation between steals and blocks per game as a team and the final regular season standings\")\n",
    "plt.legend()\n",
    "\n",
    "plt.show()"
   ]
  },
  {
   "cell_type": "code",
   "execution_count": null,
   "metadata": {},
   "outputs": [],
   "source": [
    "plt.figure(figsize=(15,10))\n",
    "\n",
    "plt.plot(SEASONS, df.loc[\"TOV\"], label=\"TOs\")\n",
    "plt.xticks(SEASONS)\n",
    "plt.yticks([-1.0, -0.75, -0.5, -0.25, 0.0, 0.25, 0.5, 0.75, 1,0])\n",
    "plt.ylabel(\"Correlation\")\n",
    "\n",
    "plt.title(\"Correlation between turnovers per game as a team and the final regular season standings\")\n",
    "plt.legend()\n",
    "\n",
    "plt.show()"
   ]
  },
  {
   "cell_type": "code",
   "execution_count": null,
   "metadata": {},
   "outputs": [],
   "source": [
    "plt.figure(figsize=(15,10))\n",
    "\n",
    "plt.plot(SEASONS, df.loc[\"PF\"], label=\"PFs\")\n",
    "plt.xticks(SEASONS)\n",
    "plt.yticks([-1.0, -0.75, -0.5, -0.25, 0.0, 0.25, 0.5, 0.75, 1,0])\n",
    "plt.ylabel(\"Correlation\")\n",
    "\n",
    "plt.title(\"Correlation between personal fouls per game as a team and the final regular season standings\")\n",
    "plt.legend()\n",
    "plt.savefig(\"Correlation_PFs_Standings.png\")\n",
    "plt.show()"
   ]
  },
  {
   "cell_type": "code",
   "execution_count": null,
   "metadata": {},
   "outputs": [],
   "source": [
    "plt.figure(figsize=(15,10))\n",
    "\n",
    "plt.plot(SEASONS, df.loc[\"PTS\"], label=\"PPG\")\n",
    "plt.xticks(SEASONS)\n",
    "plt.yticks([-1.0, -0.75, -0.5, -0.25, 0.0, 0.25, 0.5, 0.75, 1,0])\n",
    "plt.ylabel(\"Correlation\")\n",
    "\n",
    "plt.title(\"Correlation between PPG as a team and the final regular season standings\")\n",
    "plt.legend()\n",
    "plt.show()"
   ]
  },
  {
   "cell_type": "code",
   "execution_count": null,
   "metadata": {},
   "outputs": [],
   "source": [
    "plt.figure(figsize=(15,10))\n",
    "\n",
    "plt.plot(SEASONS, df.loc[\"MOV\"], label=\"PPG\")\n",
    "plt.xticks(SEASONS)\n",
    "plt.yticks([-1.0, -0.75, -0.5, -0.25, 0.0, 0.25, 0.5, 0.75, 1,0])\n",
    "plt.ylabel(\"Correlation\")\n",
    "\n",
    "plt.title(\"Correlation between margin of victory and the final regular season standings\")\n",
    "plt.legend()\n",
    "plt.show()"
   ]
  },
  {
   "cell_type": "code",
   "execution_count": null,
   "metadata": {},
   "outputs": [],
   "source": [
    "plt.figure(figsize=(15,10))\n",
    "\n",
    "plt.plot(SEASONS, df.loc[\"SOS\"], label=\"Strength of schedule\")\n",
    "plt.xticks(SEASONS)\n",
    "plt.yticks([-1.0, -0.75, -0.5, -0.25, 0.0, 0.25, 0.5, 0.75, 1,0])\n",
    "plt.ylabel(\"Correlation\")\n",
    "\n",
    "plt.title(\"Correlation betweenstrength of schedule and the final regular season standings\")\n",
    "plt.legend()\n",
    "plt.show()"
   ]
  },
  {
   "cell_type": "code",
   "execution_count": null,
   "metadata": {},
   "outputs": [],
   "source": [
    "plt.figure(figsize=(15,10))\n",
    "\n",
    "plt.plot(SEASONS, df.loc[\"SRS\"], label=\"SRS\")\n",
    "plt.xticks(SEASONS)\n",
    "plt.yticks([-1.0, -0.75, -0.5, -0.25, 0.0, 0.25, 0.5, 0.75, 1,0])\n",
    "plt.ylabel(\"Correlation\")\n",
    "\n",
    "plt.title(\"Correlation between the simple rating system and the final regular season standings\")\n",
    "plt.legend()\n",
    "plt.show()"
   ]
  },
  {
   "cell_type": "code",
   "execution_count": null,
   "metadata": {},
   "outputs": [],
   "source": [
    "plt.figure(figsize=(15,10))\n",
    "\n",
    "plt.plot(SEASONS, df.loc[\"ORtg\"], label=\"ORtg\")\n",
    "plt.xticks(SEASONS)\n",
    "plt.yticks([-1.0, -0.75, -0.5, -0.25, 0.0, 0.25, 0.5, 0.75, 1,0])\n",
    "plt.ylabel(\"Correlation\")\n",
    "\n",
    "plt.title(\"Correlation between rating and the final regular season standings\")\n",
    "plt.legend()\n",
    "plt.show()"
   ]
  },
  {
   "cell_type": "code",
   "execution_count": null,
   "metadata": {},
   "outputs": [],
   "source": [
    "plt.figure(figsize=(15,10))\n",
    "\n",
    "plt.plot(SEASONS, df.loc[\"ORtg\"], label=\"ORtg\")\n",
    "plt.plot(SEASONS, df.loc[\"DRtg\"], label=\"DRtg\")\n",
    "plt.plot(SEASONS, df.loc[\"NRtg\"], label=\"NRtg\")\n",
    "plt.xticks(SEASONS)\n",
    "plt.yticks([-1.0, -0.75, -0.5, -0.25, 0.0, 0.25, 0.5, 0.75, 1,0])\n",
    "plt.ylabel(\"Correlation\")\n",
    "\n",
    "plt.title(\"Correlation between rating and the final regular season standings\")\n",
    "plt.legend()\n",
    "plt.show()"
   ]
  },
  {
   "cell_type": "code",
   "execution_count": null,
   "metadata": {},
   "outputs": [],
   "source": [
    "plt.figure(figsize=(15,10))\n",
    "\n",
    "plt.plot(SEASONS, df.loc[\"TS%\"], label=\"TS%\")\n",
    "plt.xticks(SEASONS)\n",
    "plt.yticks([-1.0, -0.75, -0.5, -0.25, 0.0, 0.25, 0.5, 0.75, 1,0])\n",
    "plt.ylabel(\"Correlation\")\n",
    "\n",
    "plt.title(\"Correlation between true shooting percetnage and the final regular season standings\")\n",
    "plt.legend()\n",
    "plt.show()"
   ]
  },
  {
   "cell_type": "code",
   "execution_count": null,
   "metadata": {},
   "outputs": [],
   "source": [
    "plt.figure(figsize=(15,10))\n",
    "\n",
    "plt.plot(SEASONS, df.loc[\"Off_eFG%\"], label=\"Offensive eFG%\")\n",
    "plt.xticks(SEASONS)\n",
    "plt.yticks([-1.0, -0.75, -0.5, -0.25, 0.0, 0.25, 0.5, 0.75, 1,0])\n",
    "plt.ylabel(\"Correlation\")\n",
    "\n",
    "plt.title(\"Correlation between offensive effective fiel goal percetnage and the final regular season standings\")\n",
    "plt.legend()\n",
    "plt.show()"
   ]
  },
  {
   "cell_type": "code",
   "execution_count": null,
   "metadata": {},
   "outputs": [],
   "source": [
    "plt.figure(figsize=(15,10))\n",
    "\n",
    "plt.plot(SEASONS, df.loc[\"Off_TOV%\"], label=\"Offensive TO%\")\n",
    "plt.xticks(SEASONS)\n",
    "plt.yticks([-1.0, -0.75, -0.5, -0.25, 0.0, 0.25, 0.5, 0.75, 1,0])\n",
    "plt.ylabel(\"Correlation\")\n",
    "\n",
    "plt.title(\"Correlation between offensive turnover percetnage and the final regular season standings\")\n",
    "plt.legend()\n",
    "plt.show()"
   ]
  },
  {
   "cell_type": "code",
   "execution_count": null,
   "metadata": {},
   "outputs": [],
   "source": [
    "plt.figure(figsize=(15,10))\n",
    "\n",
    "plt.plot(SEASONS, df.loc[\"Off_ORB%\"], label=\"Offensive rebound%\")\n",
    "plt.xticks(SEASONS)\n",
    "plt.yticks([-1.0, -0.75, -0.5, -0.25, 0.0, 0.25, 0.5, 0.75, 1,0])\n",
    "plt.ylabel(\"Correlation\")\n",
    "\n",
    "plt.title(\"Correlation between offensive rebound percetnage and the final regular season standings\")\n",
    "plt.legend()\n",
    "plt.show()"
   ]
  },
  {
   "cell_type": "code",
   "execution_count": null,
   "metadata": {},
   "outputs": [],
   "source": [
    "plt.figure(figsize=(15,10))\n",
    "\n",
    "plt.grid()\n",
    "plt.plot(SEASONS, df.loc[\"Off_FT/FGA\"], label=\"Offensive free throw per field goal attempt\")\n",
    "plt.xticks(SEASONS)\n",
    "plt.yticks([-1.0, -0.75, -0.5, -0.25, 0.0, 0.25, 0.5, 0.75, 1,0])\n",
    "plt.ylabel(\"Correlation\")\n",
    "\n",
    "plt.title(\"Correlation between free throw per field goal attempt and the final regular season standings\")\n",
    "plt.legend()\n",
    "plt.show()"
   ]
  },
  {
   "cell_type": "code",
   "execution_count": null,
   "metadata": {},
   "outputs": [],
   "source": [
    "plt.figure(figsize=(15,10))\n",
    "\n",
    "plt.plot(SEASONS, df.loc[\"Def_eFG%\"], label=\"Defensive eFG%\")\n",
    "plt.xticks(SEASONS)\n",
    "plt.yticks([-1.0, -0.75, -0.5, -0.25, 0.0, 0.25, 0.5, 0.75, 1,0])\n",
    "plt.ylabel(\"Correlation\")\n",
    "\n",
    "plt.title(\"Correlation between defensive effective fiel goal percetnage and the final regular season standings\")\n",
    "plt.legend()\n",
    "plt.show()"
   ]
  },
  {
   "cell_type": "code",
   "execution_count": null,
   "metadata": {},
   "outputs": [],
   "source": [
    "plt.figure(figsize=(15,10))\n",
    "\n",
    "plt.plot(SEASONS, df.loc[\"Def_TOV%\"], label=\"Defensive TO%\")\n",
    "plt.xticks(SEASONS)\n",
    "plt.yticks([-1.0, -0.75, -0.5, -0.25, 0.0, 0.25, 0.5, 0.75, 1,0])\n",
    "plt.ylabel(\"Correlation\")\n",
    "\n",
    "plt.title(\"Correlation between defensive turnover percetnage and the final regular season standings\")\n",
    "plt.legend()\n",
    "plt.show()"
   ]
  },
  {
   "cell_type": "code",
   "execution_count": null,
   "metadata": {},
   "outputs": [],
   "source": [
    "plt.figure(figsize=(15,10))\n",
    "\n",
    "plt.plot(SEASONS, df.loc[\"Def_DRB%\"], label=\"Defensive rebound%\")\n",
    "plt.xticks(SEASONS)\n",
    "plt.yticks([-1.0, -0.75, -0.5, -0.25, 0.0, 0.25, 0.5, 0.75, 1,0])\n",
    "plt.ylabel(\"Correlation\")\n",
    "\n",
    "plt.title(\"Correlation between Defensive rebound percetnage and the final regular season standings\")\n",
    "plt.legend()\n",
    "plt.show()"
   ]
  },
  {
   "cell_type": "code",
   "execution_count": null,
   "metadata": {
    "scrolled": true
   },
   "outputs": [],
   "source": [
    "plt.figure(figsize=(15,10))\n",
    "\n",
    "plt.plot(SEASONS, df.loc[\"Def_FT/FGA\"], label=\"Defensive free throw per field goal attempt\")\n",
    "plt.xticks(SEASONS)\n",
    "plt.yticks([-1.0, -0.75, -0.5, -0.25, 0.0, 0.25, 0.5, 0.75, 1,0])\n",
    "plt.ylabel(\"Correlation\")\n",
    "\n",
    "plt.title(\"Correlation between free throw per field goal attempt on the defense and the final regular season standings\")\n",
    "plt.legend()\n",
    "plt.show()"
   ]
  },
  {
   "cell_type": "code",
   "execution_count": null,
   "metadata": {
    "scrolled": false
   },
   "outputs": [],
   "source": [
    "plt.figure(figsize=(15,10))\n",
    "\n",
    "plt.plot(SEASONS, df.loc[\"Attend./G\"], label=\"Attendance per game\")\n",
    "plt.xticks(SEASONS)\n",
    "plt.yticks([-1.0, -0.75, -0.5, -0.25, 0.0, 0.25, 0.5, 0.75, 1,0])\n",
    "plt.ylabel(\"Correlation\")\n",
    "\n",
    "plt.title(\"Correlation betwee fan attendance per game and the final regular season standings\")\n",
    "plt.legend()\n",
    "plt.show()"
   ]
  },
  {
   "cell_type": "code",
   "execution_count": null,
   "metadata": {},
   "outputs": [],
   "source": [
    "player_stas"
   ]
  },
  {
   "cell_type": "code",
   "execution_count": null,
   "metadata": {},
   "outputs": [],
   "source": [
    "player_df = pd.read_excel(\"DataCollection/Correlation/Rank_Correlation_Player_Stats.xlsx\")\n",
    "player_df.set_index([\"Stat\", \"Measure\"], inplace=True)\n",
    "player_df"
   ]
  },
  {
   "cell_type": "code",
   "execution_count": null,
   "metadata": {},
   "outputs": [],
   "source": []
  },
  {
   "cell_type": "code",
   "execution_count": null,
   "metadata": {},
   "outputs": [],
   "source": [
    "plt.figure(figsize=(15,10))\n",
    "\n",
    "plt.plot(SEASONS, player_df.loc[\"Age\", \"mean\"], label=\"Age mean\")\n",
    "plt.plot(SEASONS, player_df.loc[\"Age\", \"max\"], label=\"Max age\")\n",
    "plt.plot(SEASONS, player_df.loc[\"Age\", \"sd\"], label=\"Age sd\")\n",
    "plt.xticks(SEASONS)\n",
    "plt.yticks([-1.0, -0.75, -0.5, -0.25, 0.0, 0.25, 0.5, 0.75, 1,0])\n",
    "plt.ylabel(\"Correlation\")\n",
    "\n",
    "plt.title(\"Correlation between age of the players and the final regular season standings\")\n",
    "plt.legend()\n",
    "plt.show()"
   ]
  },
  {
   "cell_type": "code",
   "execution_count": null,
   "metadata": {},
   "outputs": [],
   "source": [
    "plt.figure(figsize=(15,10))\n",
    "\n",
    "plt.plot(SEASONS, player_df.loc[\"FG\", \"sd\"], label=\"FG sd\")\n",
    "plt.xticks(SEASONS)\n",
    "plt.yticks([-1.0, -0.75, -0.5, -0.25, 0.0, 0.25, 0.5, 0.75, 1,0])\n",
    "plt.ylabel(\"Correlation\")\n",
    "\n",
    "plt.title(\"Correlation between made field goals standard deviation between the players and the final regular season standings\")\n",
    "plt.legend()\n",
    "plt.show()"
   ]
  },
  {
   "cell_type": "code",
   "execution_count": null,
   "metadata": {},
   "outputs": [],
   "source": [
    "plt.figure(figsize=(15,10))\n",
    "\n",
    "plt.plot(SEASONS, player_df.loc[\"FTA\", \"max\"], label=\"FTA max\")\n",
    "plt.xticks(SEASONS)\n",
    "plt.yticks([-1.0, -0.75, -0.5, -0.25, 0.0, 0.25, 0.5, 0.75, 1,0])\n",
    "plt.ylabel(\"Correlation\")\n",
    "\n",
    "plt.title(\"Correlation between players with the most FTA and the final regular season standings\")\n",
    "plt.legend()\n",
    "plt.show()"
   ]
  },
  {
   "cell_type": "code",
   "execution_count": null,
   "metadata": {},
   "outputs": [],
   "source": [
    "plt.figure(figsize=(15,10))\n",
    "\n",
    "plt.plot(SEASONS, player_df.loc[\"PTS\", \"mean\"], label=\"PTS mean\")\n",
    "plt.plot(SEASONS, player_df.loc[\"PTS\", \"sd\"], label=\"PTS sd\")\n",
    "plt.plot(SEASONS, player_df.loc[\"PTS\", \"max\"], label=\"PTS max\")\n",
    "plt.xticks(SEASONS)\n",
    "plt.yticks([-1.0, -0.75, -0.5, -0.25, 0.0, 0.25, 0.5, 0.75, 1,0])\n",
    "plt.ylabel(\"Correlation\")\n",
    "\n",
    "plt.title(\"Correlation between PTS and the final regular season standings\")\n",
    "plt.legend()\n",
    "plt.show()"
   ]
  },
  {
   "cell_type": "code",
   "execution_count": null,
   "metadata": {},
   "outputs": [],
   "source": [
    "plt.figure(figsize=(15,10))\n",
    "\n",
    "plt.plot(SEASONS, player_df.loc[\"PER\", \"mean\"], label=\"PER mean\")\n",
    "plt.plot(SEASONS, player_df.loc[\"PER\", \"sd\"], label=\"PER sd\")\n",
    "plt.plot(SEASONS, player_df.loc[\"PER\", \"max\"], label=\"PER max\")\n",
    "plt.xticks(SEASONS)\n",
    "plt.yticks([-1.0, -0.75, -0.5, -0.25, 0.0, 0.25, 0.5, 0.75, 1,0])\n",
    "plt.ylabel(\"Correlation\")\n",
    "\n",
    "plt.title(\"Correlation between PER and the final regular season standings\")\n",
    "plt.legend()\n",
    "plt.show()"
   ]
  },
  {
   "cell_type": "code",
   "execution_count": null,
   "metadata": {},
   "outputs": [],
   "source": [
    "plt.figure(figsize=(15,10))\n",
    "\n",
    "plt.plot(SEASONS, player_df.loc[\"TS%\", \"mean\"], label=\"TS% mean\")\n",
    "plt.plot(SEASONS, player_df.loc[\"TS%\", \"sd\"], label=\"TS% sd\")\n",
    "plt.plot(SEASONS, player_df.loc[\"TS%\", \"max\"], label=\"TS% max\")\n",
    "plt.xticks(SEASONS)\n",
    "plt.yticks([-1.0, -0.75, -0.5, -0.25, 0.0, 0.25, 0.5, 0.75, 1,0])\n",
    "plt.ylabel(\"Correlation\")\n",
    "\n",
    "plt.title(\"Correlation between true shooting % and the final regular season standings\")\n",
    "plt.legend()\n",
    "plt.show()"
   ]
  },
  {
   "cell_type": "code",
   "execution_count": null,
   "metadata": {},
   "outputs": [],
   "source": [
    "plt.figure(figsize=(15,10))\n",
    "\n",
    "plt.plot(SEASONS, player_df.loc[\"OWS\", \"mean\"], label=\"OWS mean\")\n",
    "plt.plot(SEASONS, player_df.loc[\"OWS\", \"sd\"], label=\"OWS sd\")\n",
    "plt.plot(SEASONS, player_df.loc[\"OWS\", \"max\"], label=\"OWS max\")\n",
    "plt.xticks(SEASONS)\n",
    "plt.yticks([-1.0, -0.75, -0.5, -0.25, 0.0, 0.25, 0.5, 0.75, 1,0])\n",
    "plt.ylabel(\"Correlation\")\n",
    "\n",
    "plt.title(\"Correlation between offensive win share and the final regular season standings\")\n",
    "plt.legend()\n",
    "plt.show()"
   ]
  },
  {
   "cell_type": "code",
   "execution_count": null,
   "metadata": {},
   "outputs": [],
   "source": [
    "plt.figure(figsize=(15,10))\n",
    "\n",
    "plt.plot(SEASONS, player_df.loc[\"DWS\", \"mean\"], label=\"DWS mean\")\n",
    "plt.plot(SEASONS, player_df.loc[\"DWS\", \"sd\"], label=\"DWS sd\")\n",
    "plt.plot(SEASONS, player_df.loc[\"DWS\", \"max\"], label=\"DWS max\")\n",
    "plt.xticks(SEASONS)\n",
    "plt.yticks([-1.0, -0.75, -0.5, -0.25, 0.0, 0.25, 0.5, 0.75, 1,0])\n",
    "plt.ylabel(\"Correlation\")\n",
    "\n",
    "plt.title(\"Correlation between deffensive win share and the final regular season standings\")\n",
    "plt.legend()\n",
    "plt.show()"
   ]
  },
  {
   "cell_type": "code",
   "execution_count": null,
   "metadata": {},
   "outputs": [],
   "source": [
    "plt.figure(figsize=(15,10))\n",
    "\n",
    "plt.plot(SEASONS, player_df.loc[\"WS\", \"mean\"], label=\"WS mean\")\n",
    "plt.plot(SEASONS, player_df.loc[\"WS\", \"sd\"], label=\"WS sd\")\n",
    "plt.plot(SEASONS, player_df.loc[\"WS\", \"max\"], label=\"WS max\")\n",
    "plt.xticks(SEASONS)\n",
    "plt.yticks([-1.0, -0.75, -0.5, -0.25, 0.0, 0.25, 0.5, 0.75, 1,0])\n",
    "plt.ylabel(\"Correlation\")\n",
    "\n",
    "plt.title(\"Correlation between win share and the final regular season standings\")\n",
    "plt.legend()\n",
    "plt.show()"
   ]
  },
  {
   "cell_type": "code",
   "execution_count": null,
   "metadata": {},
   "outputs": [],
   "source": [
    "plt.figure(figsize=(15,10))\n",
    "\n",
    "plt.plot(SEASONS, player_df.loc[\"USG%\", \"mean\"], label=\"USG% mean\")\n",
    "plt.plot(SEASONS, player_df.loc[\"USG%\", \"sd\"], label=\"USG% sd\")\n",
    "plt.plot(SEASONS, player_df.loc[\"USG%\", \"max\"], label=\"USG% max\")\n",
    "plt.xticks(SEASONS)\n",
    "plt.yticks([-1.0, -0.75, -0.5, -0.25, 0.0, 0.25, 0.5, 0.75, 1,0])\n",
    "plt.ylabel(\"Correlation\")\n",
    "\n",
    "plt.title(\"Correlation between usage and the final regular season standings\")\n",
    "plt.legend()\n",
    "plt.show()"
   ]
  },
  {
   "cell_type": "code",
   "execution_count": null,
   "metadata": {},
   "outputs": [],
   "source": [
    "plt.figure(figsize=(15,10))\n",
    "\n",
    "plt.plot(SEASONS, player_df.loc[\"Salary\", \"mean\"], label=\"Salary mean\")\n",
    "plt.plot(SEASONS, player_df.loc[\"Salary\", \"sd\"], label=\"Salary sd\")\n",
    "plt.plot(SEASONS, player_df.loc[\"Salary\", \"max\"], label=\"Salary max\")\n",
    "plt.xticks(SEASONS)\n",
    "plt.yticks([-1.0, -0.75, -0.5, -0.25, 0.0, 0.25, 0.5, 0.75, 1,0])\n",
    "plt.ylabel(\"Correlation\")\n",
    "\n",
    "plt.title(\"Correlation between salary and the final regular season standings\")\n",
    "plt.legend()\n",
    "plt.show()"
   ]
  }
 ],
 "metadata": {
  "kernelspec": {
   "display_name": "Python 3",
   "language": "python",
   "name": "python3"
  },
  "language_info": {
   "codemirror_mode": {
    "name": "ipython",
    "version": 3
   },
   "file_extension": ".py",
   "mimetype": "text/x-python",
   "name": "python",
   "nbconvert_exporter": "python",
   "pygments_lexer": "ipython3",
   "version": "3.7.6"
  }
 },
 "nbformat": 4,
 "nbformat_minor": 4
}
