{
 "cells": [
  {
   "cell_type": "code",
   "execution_count": 3,
   "metadata": {},
   "outputs": [],
   "source": [
    "from urllib.request import urlopen\n",
    "from bs4 import BeautifulSoup\n",
    "import pandas as pd\n",
    "\n",
    "from ipynb.fs.full.UtilCollections import TEAM_TO_ABBR, SEASONS\n",
    "from ipynb.fs.full.UtilFunctions import format_season"
   ]
  },
  {
   "cell_type": "code",
   "execution_count": 4,
   "metadata": {},
   "outputs": [],
   "source": [
    "def get_team_stats(seasons, playoffs=False):\n",
    "    selector = \"div_per_game-team\"\n",
    "    regular_or_playoffs=\"leagues\"\n",
    "    team_column = \"Team\"\n",
    "    \n",
    "    if playoffs:\n",
    "        regular_or_playoffs = \"playoffs\"\n",
    "        team_column = \"Tm\"\n",
    "        \n",
    "    for season in seasons:\n",
    "        url = f'https://widgets.sports-reference.com/wg.fcgi?css=1&site=bbr&url=%2F{regular_or_playoffs}%2FNBA_{season}.html&div={selector}'\n",
    "        soup = BeautifulSoup(urlopen(url))\n",
    "        \n",
    "        table = soup.find('table')\n",
    "        df = pd.read_html(str(table))[0]\n",
    "        \n",
    "        league_avg_index = df[df[team_column] == 'League Average'].index[0]\n",
    "        df = df[:league_avg_index]\n",
    "\n",
    "        df[\"Made_Playoffs\"] = False        \n",
    "        for team in df[team_column]:\n",
    "            if '*' in team:\n",
    "                df.loc[df[team_column] == team, [\"Made_Playoffs\"]] = True\n",
    "                \n",
    "        df[team_column] = df[team_column].apply(lambda x: x.replace('*', '').upper())\n",
    "        df[team_column] = df[team_column].apply(lambda x: TEAM_TO_ABBR[x])\n",
    "        df['Rk'] = df['Rk'].apply(lambda x: int(x))\n",
    "        df = df.set_index('Rk')\n",
    "        \n",
    "        first_year, second_year = format_season(season)\n",
    "\n",
    "        csv_file_name = \"DataCollection/Team_Stats/team_stats_{0}-{1}.csv\".format(first_year, second_year)\n",
    "        if playoffs:\n",
    "            csv_file_name = \"DataCollection/Team_Stats_Playoffs/team_stats_playoffs{0}-{1}.csv\".format(first_year, second_year)\n",
    "\n",
    "        df.to_csv(csv_file_name, index=False)"
   ]
  },
  {
   "cell_type": "code",
   "execution_count": 5,
   "metadata": {},
   "outputs": [],
   "source": [
    "def get_opponent_stats(seasons, playoffs=False):\n",
    "    selector = \"div_per_game-opponent\"\n",
    "    regular_or_playoffs=\"leagues\"\n",
    "    team_column = \"Team\"\n",
    "    \n",
    "    if playoffs:\n",
    "        regular_or_playoffs = \"playoffs\"\n",
    "        team_column = \"Tm\"\n",
    "        \n",
    "    for season in seasons:\n",
    "        url = f'https://widgets.sports-reference.com/wg.fcgi?css=1&site=bbr&url=%2F{regular_or_playoffs}%2FNBA_{season}.html&div={selector}'        \n",
    "        soup = BeautifulSoup(urlopen(url))\n",
    "        table = soup.find('table')\n",
    "        df = pd.read_html(str(table))[0]\n",
    "\n",
    "        league_avg_index = df[df[team_column] == 'League Average'].index[0]\n",
    "        df = df[:league_avg_index]\n",
    "        \n",
    "        df[\"Made_Playoffs\"] = False\n",
    "        for team in df[team_column]:\n",
    "            if '*' in team:\n",
    "                df.loc[df[team_column] == team, [\"Made_Playoffs\"]] = True\n",
    "                \n",
    "        df[team_column] = df[team_column].apply(lambda x: x.replace('*', '').upper())\n",
    "        df[team_column] = df[team_column].apply(lambda x: TEAM_TO_ABBR[x])\n",
    "        df['Rk'] = df['Rk'].apply(lambda x: int(x))\n",
    "        df = df.set_index('Rk')\n",
    "        \n",
    "        static_columns = [team_column, \"G\", \"MP\"]\n",
    "        opp_columns = static_columns\n",
    "        for column in df.columns:\n",
    "            if column not in static_columns:\n",
    "                column = \"OPP_\"+column\n",
    "                opp_columns.append(column)\n",
    "                \n",
    "        df.columns = opp_columns\n",
    "    \n",
    "\n",
    "        first_year, second_year = format_season(season)\n",
    "\n",
    "        csv_file_name = \"DataCollection/Opponent_Stats/opponent_stats_{0}-{1}.csv\".format(first_year, second_year)\n",
    "        if playoffs:\n",
    "            csv_file_name = \"DataCollection/Opponent_Stats_Playoffs/opponent_stats_playoffS_{0}-{1}.csv\".format(first_year, second_year)\n",
    "\n",
    "        df.to_csv(csv_file_name, index=False)"
   ]
  },
  {
   "cell_type": "code",
   "execution_count": 6,
   "metadata": {},
   "outputs": [],
   "source": [
    "def get_advanced_team_stats(seasons, playoffs=False):\n",
    "    \n",
    "    regular_or_playoffs=\"leagues\"\n",
    "    team_column = \"Team\"\n",
    "    \n",
    "    if playoffs:\n",
    "        regular_or_playoffs = \"playoffs\"\n",
    "        team_column = \"Tm\"\n",
    "            \n",
    "    for season in seasons:\n",
    "        url = f'https://widgets.sports-reference.com/wg.fcgi?css=1&site=bbr&url=%2F{regular_or_playoffs}%2FNBA_{season}.html&div=div_advanced-team'\n",
    "        soup = BeautifulSoup(urlopen(url))\n",
    "        table = soup.find('table')\n",
    "        df = pd.read_html(str(table))[0]\n",
    "\n",
    "        df.columns = list(map(lambda x: x[1], list(df.columns)))\n",
    "        league_avg_index = df[df[team_column] == 'League Average'].index[0]\n",
    "        df = df[:league_avg_index]\n",
    "\n",
    "        df[\"Made_Playoffs\"] = False\n",
    "        for team in df[team_column]:\n",
    "            if '*' in team:\n",
    "                df.loc[df[team_column] == team, [\"Made_Playoffs\"]] = True\n",
    "\n",
    "        df[team_column] = df[team_column].apply(lambda x: x.replace('*', '').upper())\n",
    "        df[team_column] = df[team_column].apply(lambda x: TEAM_TO_ABBR[x])\n",
    "        df['Rk'] = df['Rk'].apply(lambda x: int(x))\n",
    "        df = df.set_index('Rk')\n",
    "        df = df.loc[:, ~df.columns.str.contains(\"Unnamed\")]\n",
    "\n",
    "        columns = list(df.columns)\n",
    "        if not playoffs:\n",
    "            for i in range(len(columns)):\n",
    "                column = columns[i]\n",
    "                if i in range(16,20):\n",
    "                    columns[i] = \"Off_\"+column\n",
    "                elif i in range(20,24):\n",
    "                    columns[i] = \"Def_\"+column\n",
    "        else:\n",
    "            for i in range(len(columns)):\n",
    "                column = columns[i]\n",
    "                if i in range(14,18):\n",
    "                    columns[i] = \"Off_\"+column\n",
    "                elif i in range(18,22):\n",
    "                    columns[i] = \"Def_\"+column\n",
    "        df.columns = columns\n",
    "\n",
    "        first_year, second_year = format_season(season)\n",
    "\n",
    "        csv_file_name = \"DataCollection/Advanced_Team_Stats/adv_team_stats_{0}-{1}.csv\".format(first_year, second_year)\n",
    "        if playoffs:\n",
    "             csv_file_name = \"DataCollection/Advanced_Team_Stats_Playoffs/adv_team_stats_playoffs_{0}-{1}.csv\".format(first_year, second_year)\n",
    "        \n",
    "        df.to_csv(csv_file_name, index=False)"
   ]
  },
  {
   "cell_type": "code",
   "execution_count": 7,
   "metadata": {
    "scrolled": true
   },
   "outputs": [],
   "source": [
    "get_team_stats(SEASONS)"
   ]
  },
  {
   "cell_type": "code",
   "execution_count": 8,
   "metadata": {},
   "outputs": [],
   "source": [
    "get_team_stats(SEASONS, True)"
   ]
  },
  {
   "cell_type": "code",
   "execution_count": 9,
   "metadata": {},
   "outputs": [],
   "source": [
    "get_opponent_stats(SEASONS)"
   ]
  },
  {
   "cell_type": "code",
   "execution_count": 10,
   "metadata": {},
   "outputs": [],
   "source": [
    "get_opponent_stats(SEASONS, True)"
   ]
  },
  {
   "cell_type": "code",
   "execution_count": 11,
   "metadata": {
    "scrolled": true
   },
   "outputs": [],
   "source": [
    "get_advanced_team_stats(SEASONS)"
   ]
  },
  {
   "cell_type": "code",
   "execution_count": 12,
   "metadata": {},
   "outputs": [],
   "source": [
    "get_advanced_team_stats(SEASONS, True)"
   ]
  }
 ],
 "metadata": {
  "kernelspec": {
   "display_name": "Python 3",
   "language": "python",
   "name": "python3"
  },
  "language_info": {
   "codemirror_mode": {
    "name": "ipython",
    "version": 3
   },
   "file_extension": ".py",
   "mimetype": "text/x-python",
   "name": "python",
   "nbconvert_exporter": "python",
   "pygments_lexer": "ipython3",
   "version": "3.8.8"
  }
 },
 "nbformat": 4,
 "nbformat_minor": 4
}
