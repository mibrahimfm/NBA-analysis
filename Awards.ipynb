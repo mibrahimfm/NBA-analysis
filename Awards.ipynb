{
 "cells": [
  {
   "cell_type": "code",
   "execution_count": 5,
   "id": "723d8105",
   "metadata": {},
   "outputs": [],
   "source": [
    "import pandas as pd\n",
    "\n",
    "from ipynb.fs.full.UtilFunctions import format_season\n",
    "from ipynb.fs.full.UtilCollections import SEASONS\n"
   ]
  },
  {
   "cell_type": "code",
   "execution_count": 2,
   "id": "bf78a9bc",
   "metadata": {},
   "outputs": [],
   "source": [
    "awards = pd.read_csv(\"DataCollection/Awards/awards_history.csv\", index_col=0)"
   ]
  },
  {
   "cell_type": "code",
   "execution_count": 8,
   "id": "06656fd2",
   "metadata": {},
   "outputs": [],
   "source": [
    "player_dfs = []\n",
    "for season in SEASONS:\n",
    "    first_year, second_year = format_season(season)\n",
    "    player_dfs.append(pd.read_csv(f\"DataCollection/Player_Stats/player_stats_{first_year}-{second_year}.csv\"))\n",
    "    "
   ]
  },
  {
   "cell_type": "code",
   "execution_count": null,
   "id": "7642c57e",
   "metadata": {},
   "outputs": [],
   "source": []
  }
 ],
 "metadata": {
  "language_info": {
   "codemirror_mode": {
    "name": "ipython",
    "version": 3
   },
   "file_extension": ".py",
   "mimetype": "text/x-python",
   "name": "python",
   "nbconvert_exporter": "python",
   "pygments_lexer": "ipython3",
   "version": "3.8.8"
  }
 },
 "nbformat": 4,
 "nbformat_minor": 5
}
