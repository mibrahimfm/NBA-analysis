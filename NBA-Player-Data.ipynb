{
 "cells": [
  {
   "cell_type": "markdown",
   "metadata": {},
   "source": [
    "## Collects nba player data from basketball-reference and ESPN.com"
   ]
  },
  {
   "cell_type": "code",
   "execution_count": 1,
   "metadata": {},
   "outputs": [],
   "source": [
    "from urllib.request import urlopen\n",
    "from bs4 import BeautifulSoup, Comment\n",
    "import pandas as pd\n",
    "import math\n",
    "\n",
    "from UtilCollections import TEAM_TO_ABBR, ALL_NEW_ABBR\n",
    "from UtilFunctions import format_season"
   ]
  },
  {
   "cell_type": "code",
   "execution_count": 20,
   "metadata": {},
   "outputs": [],
   "source": [
    "def get_player_salaries(season):    \n",
    "    page = 1\n",
    "    players_per_page = 40\n",
    "    headers_row = ['RK', 'NAME', 'TEAM', 'SALARY']\n",
    "    \n",
    "    url = f\"https://www.espn.com/nba/salaries/_/year/{season}\" \n",
    "    soup = BeautifulSoup(urlopen(url))\n",
    "    \n",
    "    total_results = soup.find('div', class_='totalResults').getText()\n",
    "    total_results = int(total_results.split(' ')[0])    \n",
    "    total_pages = math.ceil(total_results / players_per_page)\n",
    "    \n",
    "    headers = [td.getText() for td in soup.find('tr', class_='colhead')]\n",
    "    season_salaries = []\n",
    "    \n",
    "    for page in range(total_pages):\n",
    "        url = \"http://www.espn.com/nba/salaries/_/year/{0}/page/{1}\".format(season, page)\n",
    "        html = urlopen(url)\n",
    "        soup = BeautifulSoup(html)    \n",
    "        \n",
    "        rows = soup.findAll('tr')[1:]\n",
    "        page_salaries = [[td.getText() for td in rows[i].find_all('td')] for i in range(len(rows))]\n",
    "        adjusted_salaries = []\n",
    "        for salary in page_salaries:\n",
    "            if salary != headers_row:\n",
    "                name, _ = salary[1].split(', ')\n",
    "                salary_value = salary[3].replace('$', '').replace(',','')\n",
    "                salary_value = float(salary_value)\n",
    "                adjusted_salaries.append([salary[0], name, salary[2], salary_value])\n",
    "            \n",
    "        season_salaries.extend(adjusted_salaries)\n",
    "        \n",
    "    df = pd.DataFrame(season_salaries, columns=headers)\n",
    "    df = df.set_index('RK')\n",
    "    df.drop(columns=['TEAM'], inplace=True)\n",
    "    df = df.rename(columns={\"NAME\":\"Player\", \"SALARY\":\"Salary\"})\n",
    "    \n",
    "    return df"
   ]
  },
  {
   "cell_type": "code",
   "execution_count": 31,
   "metadata": {},
   "outputs": [],
   "source": [
    "def get_player_stats(season, regular_or_playoffs):\n",
    "    url = \"https://www.basketball-reference.com/{0}/NBA_{1}_per_game.html\".format(regular_or_playoffs, season)\n",
    "    soup = BeautifulSoup(urlopen(url))\n",
    "\n",
    "    headers = [th.getText() for th in soup.findAll('tr', limit=2)[0].findAll('th')]\n",
    "    headers = headers[1:]\n",
    "    \n",
    "    rows = soup.findAll('tr')[1:]\n",
    "    player_stats = [[td.getText() for td in rows[i].findAll('td')]for i in range(len(rows))]\n",
    "    df = pd.DataFrame(player_stats, columns=headers)\n",
    "    df.drop(columns=['Awards'], inplace=True)    \n",
    "    return df\n"
   ]
  },
  {
   "cell_type": "code",
   "execution_count": 4,
   "metadata": {},
   "outputs": [],
   "source": [
    "def get_player_totals(season, regular_or_playoffs):\n",
    "    url = \"https://www.basketball-reference.com/{0}/NBA_{1}_totals.html\".format(regular_or_playoffs, season)\n",
    "    soup = BeautifulSoup(urlopen(url))\n",
    "\n",
    "    headers = [th.getText() for th in soup.findAll('tr', limit=2)[0].findAll('th')]\n",
    "    headers = headers[1:]\n",
    "    \n",
    "    rows = soup.findAll('tr')[1:]\n",
    "    player_stats = [[td.getText() for td in rows[i].findAll('td')]for i in range(len(rows))]\n",
    "    df = pd.DataFrame(player_stats, columns=headers)\n",
    "    return df\n"
   ]
  },
  {
   "cell_type": "code",
   "execution_count": 5,
   "metadata": {},
   "outputs": [],
   "source": [
    "def get_advanced_player_stats(season, regular_or_playoffs):\n",
    "    url = \"https://www.basketball-reference.com/{0}/NBA_{1}_advanced.html\".format(regular_or_playoffs, season)\n",
    "    soup = BeautifulSoup(urlopen(url))\n",
    "    \n",
    "    headers = [th.getText() for th in soup.findAll('tr', limit=2)[0].findAll('th')]\n",
    "    headers = headers[1:]\n",
    "    \n",
    "    rows = soup.findAll('tr')[1:]\n",
    "    advanced_stats = [[td.getText() for td in rows[i].findAll('td')]for i in range(len(rows))]\n",
    "    df = pd.DataFrame(advanced_stats, columns=headers)\n",
    "    \n",
    "    #removing columns that will not be necessary or don't have data\n",
    "    df = df.loc[:, ~df.columns.isin(['Pos', 'Age', 'G', 'MP', '\\xa0', ' .1'])]\n",
    "    return df"
   ]
  },
  {
   "cell_type": "code",
   "execution_count": 6,
   "metadata": {},
   "outputs": [],
   "source": [
    "def get_player_shooting_stats(season):\n",
    "    url = \"https://www.basketball-reference.com/leagues/NBA_{}_shooting.html\".format(season)\n",
    "    soup = BeautifulSoup(urlopen(url))\n",
    "    \n",
    "    #Renaming headers to make it easier to read the data\n",
    "    headers = [th.getText() for th in soup.findAll('tr', limit=2)[1].findAll('th')]\n",
    "    headers = headers[1:]\n",
    "    headers[-7] = \"Dunks made\"\n",
    "    headers[-5] = \"%3PA corner\"\n",
    "    headers[-4] = \"3P% corner\"\n",
    "    headers[-2] = \"Heaved att.\"\n",
    "    headers[-1] = \"Heaves made\"\n",
    "    headers[9:15] = [\"% Att 2P\", \"% Att 0-3ft\", \"% Att 3-10ft\", \"% Att 10-16ft\", \"% Att 16ft-3P\", \"% Att 3P\"]\n",
    "    headers[16:22] = [\"% Made 2P\", \"% Made 0-3ft\", \"% Made 3-10ft\", \"% Made 10-16ft\", \"% Made 16ft-3P\", \"% Made 3P\"]\n",
    "    headers[23:25] = [\"% 2P Asst.\", \"% 3P Asst.\"]\n",
    "\n",
    "    rows = soup.findAll('tr')[1:]\n",
    "    player_stats = [[td.getText() for td in rows[i].findAll('td')]for i in range(len(rows))]\n",
    "    player_stats = player_stats[1:]\n",
    "    \n",
    "    df = pd.DataFrame(player_stats, columns=headers)\n",
    "    df = df.loc[:, ~df.columns.isin(['\\xa0'])]\n",
    "    df = df.dropna(how='all')\n",
    "    df.columns = [\"Player\", \"Pos\", \"Age\", \"Tm\", \"G\", \"MP\", \"FG%\", \"AvgDistance\", \"2PAr\",\n",
    "                         \"0-3Ar\", \"3-10Ar\", \"10-16Ar\", \"16-3PAr\", \"3PAr\", \"2P%\", \"0-3%\", \"3-10%\", \"10-16%\",\n",
    "                         \"16-3P%\", \"3P%\", \"2P_Assisted\", \"3P_Assisted\", \"DunksAr\", \"Dunks\", \"3PCornerAr\", \"3PCorner%\",\n",
    "                         \"HeavesAttempted\", \"Heaves\"]\n",
    "    return df"
   ]
  },
  {
   "cell_type": "code",
   "execution_count": 7,
   "metadata": {},
   "outputs": [],
   "source": [
    "def get_awards_history(seasons):\n",
    "    for season in seasons:\n",
    "        first_year, second_year = format_season(season)\n",
    "        url = \"https://www.basketball-reference.com/leagues/NBA_{}.html#all_all_awards\".format(season)\n",
    "        soup = BeautifulSoup(urlopen(url))\n",
    "\n",
    "        for comment in soup(text=lambda text: isinstance(text, Comment)):\n",
    "            if 'id=\"all_awards\"' in comment.string:\n",
    "                tag = BeautifulSoup(comment, 'html.parser')\n",
    "                comment.replace_with(tag)\n",
    "                break\n",
    "\n",
    "        table = soup.find('table', id='all_awards')\n",
    "        df = pd.read_html(str(table))[0]\n",
    "        df.dropna(how='any', inplace=True)\n",
    "        df = df[df['Award'] != \"Player of the Seeding Games\"]\n",
    "        df.index = ['MVP', 'ROY', 'DPOY', 'MIP', 'SMOY']\n",
    "        df.drop('Award', axis=1, inplace=True)\n",
    "        df.to_csv(\"DataCollection/Awards/awards_{0}-{1}.csv\".format(first_year, second_year))"
   ]
  },
  {
   "cell_type": "code",
   "execution_count": 8,
   "metadata": {},
   "outputs": [],
   "source": [
    "def get_all_star_voting(seasons):\n",
    "    for season in seasons:\n",
    "        first_year, second_year = format_season(season)\n",
    "        url = \"https://www.basketball-reference.com/allstar/NBA_{}_voting.html\".format(season)\n",
    "        soup = BeautifulSoup(urlopen(url))\n",
    "        table = soup.find('table', id='bc-w')\n",
    "        bcw_df = pd.read_html(str(table))[0]\n",
    "        \n",
    "        url = \"https://www.basketball-reference.com/allstar/NBA_{}_voting-frontcourt-western-conference.html\".format(season)\n",
    "        soup = BeautifulSoup(urlopen(url))\n",
    "        table = soup.find('table', id='fc-w')\n",
    "        fcw_df = pd.read_html(str(table))[0]        \n",
    "        \n",
    "        url = \"https://www.basketball-reference.com/allstar/NBA_{}_voting-backcourt-eastern-conference.html\".format(season)\n",
    "        soup = BeautifulSoup(urlopen(url))\n",
    "        table = soup.find('table', id='bc-e')\n",
    "        bce_df = pd.read_html(str(table))[0]\n",
    "        \n",
    "        url = \"https://www.basketball-reference.com/allstar/NBA_{}_voting-frontcourt-eastern-conference.html\".format(season)\n",
    "        soup = BeautifulSoup(urlopen(url))\n",
    "        table = soup.find('table', id='fc-e')\n",
    "        fce_df = pd.read_html(str(table))[0]\n",
    "\n",
    "        df = pd.concat([bcw_df, fcw_df, bce_df, fce_df])\n",
    "        \n",
    "        df = df.droplevel(0, axis=1)\n",
    "        df.drop(columns=[\"Season\", 'Unnamed: 4_level_1', 'Unnamed: 7_level_1', 'Unnamed: 10_level_1'], inplace=True)\n",
    "        df.columns = [\"Player\", \"Fan_Votes\", \"Fan_Rank\", \"Player_Votes\", \"Player_Rank\", \"Media_Votes\", \"Media_Rank\", \"Score\"]\n",
    "        df.to_csv(\"DataCol\")"
   ]
  },
  {
   "cell_type": "code",
   "execution_count": 28,
   "metadata": {},
   "outputs": [],
   "source": [
    "def get_regular_season_player_stats_to_df(season, salaries_df):\n",
    "    regular_season_url = \"leagues\"\n",
    "    \n",
    "    traditional_stats_df = get_player_stats(season, regular_season_url)\n",
    "    traditional_stats_df.rename(columns={\"Team\":\"Tm\"}, inplace=True)\n",
    "    advanced_stats_df = get_advanced_player_stats(season, regular_season_url)\n",
    "        \n",
    "    stats = pd.merge(traditional_stats_df, advanced_stats_df, on=[\"Player\", \"Tm\"])\n",
    "    stats.dropna(how='all', inplace=True)    \n",
    "    stats_and_salaries = pd.merge(stats, salaries_df, on=\"Player\", how=\"left\")\n",
    "    \n",
    "    return stats_and_salaries"
   ]
  },
  {
   "cell_type": "code",
   "execution_count": 10,
   "metadata": {},
   "outputs": [],
   "source": [
    "def get_playoffs_player_stats_to_df(season):\n",
    "    playoffs_url = 'playoffs'\n",
    "    \n",
    "    traditional_stats_df = get_player_stats(season, playoffs_url)\n",
    "    advanced_stats_df = get_advanced_player_stats(season, playoffs_url)\n",
    "    \n",
    "    stats = pd.merge(traditional_stats_df, advanced_stats_df, on=\"Player\")\n",
    "    stats.dropna(how='all', inplace=True)\n",
    "    stats.rename(columns={'Tm_x' : 'Tm'}, inplace=True)\n",
    "    \n",
    "    stats['Tm'] = stats['Tm'].apply(lambda x: ALL_NEW_ABBR[x])\n",
    "    \n",
    "    return stats"
   ]
  },
  {
   "cell_type": "code",
   "execution_count": 11,
   "metadata": {},
   "outputs": [],
   "source": [
    "def get_player_totals_to_df(season):\n",
    "    regular_season_url = \"leagues\"\n",
    "\n",
    "    stats = get_player_totals(season, regular_season_url)\n",
    "    salaries_df = get_player_salaries(season)\n",
    "    \n",
    "    stats = stats.dropna(how='all')    \n",
    "    stats_and_salaries = pd.merge(stats, salaries_df, on=\"Player\", how=\"left\")\n",
    "        \n",
    "    return stats_and_salaries"
   ]
  },
  {
   "cell_type": "code",
   "execution_count": 12,
   "metadata": {},
   "outputs": [],
   "source": [
    "def player_stats_to_csv(seasons, salaries_df, playoffs=False):\n",
    "    for season in seasons:\n",
    "        player_stats = None\n",
    "        csv_file_name = \"\"\n",
    "        \n",
    "        first_year, second_year = format_season(season)\n",
    "\n",
    "        if playoffs:\n",
    "            player_stats = get_playoffs_player_stats_to_df(season)\n",
    "            csv_file_name = \"DataCollection/Player_Stats_Playoffs/player_stats_playoffs_{0}-{1}.csv\".format(first_year, second_year)\n",
    "        else:\n",
    "            player_stats = get_regular_season_player_stats_to_df(season, salaries_df)\n",
    "            csv_file_name = \"DataCollection/Player_Stats/player_stats_{0}-{1}.csv\".format(first_year, second_year)\n",
    "        \n",
    "        player_stats.to_csv(csv_file_name, index=False)"
   ]
  },
  {
   "cell_type": "code",
   "execution_count": 13,
   "metadata": {},
   "outputs": [],
   "source": [
    "def player_totals_to_csv(seasons):\n",
    "    for season in seasons:\n",
    "        player_stats = get_player_totals_to_df(season)\n",
    "        \n",
    "        first_year, second_year = format_season(season)        \n",
    "        csv_file_name = \"DataCollection/Player_Totals/player_totals_{0}-{1}.csv\".format(first_year, second_year)\n",
    "\n",
    "        player_stats.to_csv(csv_file_name, index=False)"
   ]
  },
  {
   "cell_type": "code",
   "execution_count": 14,
   "metadata": {},
   "outputs": [],
   "source": [
    "def player_shooting_stats_to_csv(seasons):\n",
    "    for season in seasons:\n",
    "        \n",
    "        shooting_df = get_player_shooting_stats(season)        \n",
    "\n",
    "        first_year, second_year = format_season(season)\n",
    "        csv_file_name = \"DataCollection/Player_Shooting_Stats/Regular_Season/player_shooting_stats_{0}-{1}.csv\".format(first_year, second_year)\n",
    "\n",
    "        shooting_df.to_csv(csv_file_name, index=False)"
   ]
  },
  {
   "cell_type": "code",
   "execution_count": 16,
   "metadata": {},
   "outputs": [],
   "source": [
    "#NBA season to analyze\n",
    "seasons = range(2024,2025)"
   ]
  },
  {
   "cell_type": "code",
   "execution_count": 22,
   "metadata": {},
   "outputs": [],
   "source": [
    "df = get_player_salaries(2024)"
   ]
  },
  {
   "cell_type": "code",
   "execution_count": 32,
   "metadata": {},
   "outputs": [],
   "source": [
    "player_stats_to_csv([2024], df)"
   ]
  },
  {
   "cell_type": "code",
   "execution_count": null,
   "metadata": {},
   "outputs": [],
   "source": [
    "player_totals_to_csv(seasons)"
   ]
  },
  {
   "cell_type": "code",
   "execution_count": 30,
   "metadata": {},
   "outputs": [],
   "source": [
    "player_shooting_stats_to_csv([2024])"
   ]
  },
  {
   "cell_type": "code",
   "execution_count": null,
   "metadata": {},
   "outputs": [],
   "source": [
    "player_stats_to_csv(seasons, True)"
   ]
  }
 ],
 "metadata": {
  "kernelspec": {
   "display_name": "Python 3",
   "language": "python",
   "name": "python3"
  },
  "language_info": {
   "codemirror_mode": {
    "name": "ipython",
    "version": 3
   },
   "file_extension": ".py",
   "mimetype": "text/x-python",
   "name": "python",
   "nbconvert_exporter": "python",
   "pygments_lexer": "ipython3",
   "version": "3.12.4"
  }
 },
 "nbformat": 4,
 "nbformat_minor": 4
}
