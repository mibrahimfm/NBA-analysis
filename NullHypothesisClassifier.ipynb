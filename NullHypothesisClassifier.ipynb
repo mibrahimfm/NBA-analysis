{
 "cells": [
  {
   "cell_type": "markdown",
   "metadata": {},
   "source": [
    "## This notebook has the purpose of designing a random classifier for player's positions\n",
    "\n",
    "In the project, this will be useful to establish a null hypothesis, measuring the distribution hypothesys of each iteration of this null model to verify at what point a season could be classified as \"positionless\""
   ]
  },
  {
   "cell_type": "code",
   "execution_count": 1,
   "metadata": {},
   "outputs": [],
   "source": [
    "import pandas as pd\n",
    "from sklearn.metrics import accuracy_score, confusion_matrix, ConfusionMatrixDisplay, f1_score\n",
    "from scipy.stats import randint, entropy\n",
    "\n",
    "from UtilFunctions import format_season\n",
    "from UtilCollections import STATS_MAPPER, COLOR_MAPPER, POSITIONS"
   ]
  },
  {
   "cell_type": "code",
   "execution_count": 2,
   "metadata": {},
   "outputs": [],
   "source": [
    "position_to_number = {\n",
    "    \"PG\": 0,\n",
    "    \"SG\": 1,\n",
    "    \"SF\": 2,\n",
    "    \"PF\": 3,\n",
    "    \"C\": 4\n",
    "}"
   ]
  },
  {
   "cell_type": "code",
   "execution_count": 3,
   "metadata": {},
   "outputs": [],
   "source": [
    "def pre_process(seasons):\n",
    "    df = None\n",
    "    for season in seasons:\n",
    "        per_min_cols = ['FGA', '3PA', '2PA', 'PF', 'PTS', 'OWS', 'DWS', 'OBPM', 'DBPM', 'BPM']\n",
    "        cols_to_drop = None\n",
    "        first_year, second_year = format_season(season)\n",
    "        player_data = pd.read_csv(f\"DataCollection/Player_Stats/player_stats_{first_year}-{second_year}.csv\")\n",
    "        cols_to_drop = ['index', 'TRB', 'DRB', 'ORB', 'AST', 'G', 'GS', 'FT', 'FG', 'FG%', 'BLK', 'STL',\n",
    "                                'WS', 'FTA', 'TOV', 'Age', '2P', '3P', 'VORP']\n",
    "            \n",
    "        player_data = player_data.fillna(0)\n",
    "        player_data = player_data[(player_data[\"MP\"] > 15) & (player_data[\"G\"] >= 30)]\n",
    "        player_data = player_data.sort_values(by=['G'], ascending=False)\n",
    "        player_data = player_data[player_data[\"Tm\"] != \"TOT\"]\n",
    "        player_data = player_data.drop_duplicates(subset =\"Player\",keep = \"first\")\n",
    "        player_data.reset_index(inplace=True)\n",
    "        player_data.drop(columns=cols_to_drop, inplace=True)\n",
    "        \n",
    "        for col in per_min_cols:\n",
    "            player_data[col] = player_data[col] / player_data['MP'] * 36\n",
    "        \n",
    "        if df is None:\n",
    "            df = player_data\n",
    "        else:\n",
    "            df = pd.concat([df, player_data])\n",
    "            \n",
    "    df.reset_index(inplace=True)\n",
    "    df.drop(['index', 'Player', 'Tm'], axis=1, inplace=True)\n",
    "    return df"
   ]
  },
  {
   "cell_type": "code",
   "execution_count": 4,
   "metadata": {},
   "outputs": [],
   "source": [
    "def calculate_probability_matrix(cm):\n",
    "    prob_matrix = []\n",
    "    for i in range(len(cm)):\n",
    "        prob_matrix.append([])\n",
    "        players_in_position = sum(cm[i,:])\n",
    "        for j in range(len(cm)):\n",
    "            prob_matrix[i].append(round(cm[i,j]/players_in_position, 2))\n",
    "    \n",
    "    return prob_matrix"
   ]
  },
  {
   "cell_type": "code",
   "execution_count": 5,
   "metadata": {},
   "outputs": [],
   "source": [
    "def entropy_by_position(positions, p_matrix):\n",
    "    entropies = {}\n",
    "    i = 0\n",
    "    for position in positions:\n",
    "        entropies[position] = entropy(p_matrix[i])\n",
    "        i += 1\n",
    "    return entropies"
   ]
  },
  {
   "cell_type": "code",
   "execution_count": 6,
   "metadata": {},
   "outputs": [],
   "source": [
    "def random_hypothesis(seasons, amount_training_seasons=4):\n",
    "    entropies_df = {}\n",
    "    f1_scores = {}\n",
    "    labels = [\"PG\", \"SG\", \"SF\", \"PF\", \"C\"]\n",
    "    \n",
    "    for season in seasons:\n",
    "        entropies_df[season] = []\n",
    "        f1_scores[season] = []\n",
    "    \n",
    "    for i in range(1000):\n",
    "        if i % 100 == 0:\n",
    "            print(f\"Iteration {i}\")\n",
    "        for season in seasons:\n",
    "            df = pre_process([season])\n",
    "            y_test = df['Pos']\n",
    "            y_pred = [labels[randint.rvs(0, len(POSITIONS))] for _ in range(len(df.index))]\n",
    "\n",
    "            cm = confusion_matrix(y_test, y_pred, labels=labels)\n",
    "            prob_matrix = calculate_probability_matrix(cm)\n",
    "            entropies_df[season].append(entropy_by_position(labels, prob_matrix))\n",
    "            f1_scores[season].append(f1_score(y_test, y_pred, average='weighted'))\n",
    "    return entropies_df, f1_scores"
   ]
  },
  {
   "cell_type": "code",
   "execution_count": 1,
   "metadata": {},
   "outputs": [
    {
     "ename": "NameError",
     "evalue": "name 'random_hypothesis' is not defined",
     "output_type": "error",
     "traceback": [
      "\u001b[1;31m---------------------------------------------------------------------------\u001b[0m",
      "\u001b[1;31mNameError\u001b[0m                                 Traceback (most recent call last)",
      "Cell \u001b[1;32mIn[1], line 1\u001b[0m\n\u001b[1;32m----> 1\u001b[0m entropies, f1_scores \u001b[38;5;241m=\u001b[39m random_hypothesis(\u001b[38;5;28mrange\u001b[39m(\u001b[38;5;241m2020\u001b[39m, \u001b[38;5;241m2025\u001b[39m))\n",
      "\u001b[1;31mNameError\u001b[0m: name 'random_hypothesis' is not defined"
     ]
    }
   ],
   "source": [
    "entropies, f1_scores = random_hypothesis(range(1980, 2025))"
   ]
  },
  {
   "cell_type": "code",
   "execution_count": 8,
   "metadata": {},
   "outputs": [],
   "source": [
    "import matplotlib.pyplot as plt\n",
    "import numpy as np"
   ]
  },
  {
   "cell_type": "code",
   "execution_count": 17,
   "metadata": {},
   "outputs": [],
   "source": [
    "def get_positionless_borderlines(entropies):\n",
    "    positionless_borderlines = {}\n",
    "    for season in entropies.keys():\n",
    "        positionless_borderlines[season] = {}\n",
    "        \n",
    "        for position in POSITIONS:            \n",
    "            entropies_each_season = [e[position] for e in entropies[season]]\n",
    "            positionless_borderlines[season][position] = np.percentile(entropies_each_season, 1)\n",
    "    \n",
    "    return positionless_borderlines"
   ]
  },
  {
   "cell_type": "code",
   "execution_count": 15,
   "metadata": {},
   "outputs": [],
   "source": [
    "positionless_borderlines = get_positionless_borderlines(entropies)"
   ]
  }
 ],
 "metadata": {
  "kernelspec": {
   "display_name": "base",
   "language": "python",
   "name": "python3"
  },
  "language_info": {
   "codemirror_mode": {
    "name": "ipython",
    "version": 3
   },
   "file_extension": ".py",
   "mimetype": "text/x-python",
   "name": "python",
   "nbconvert_exporter": "python",
   "pygments_lexer": "ipython3",
   "version": "3.12.4"
  }
 },
 "nbformat": 4,
 "nbformat_minor": 2
}
