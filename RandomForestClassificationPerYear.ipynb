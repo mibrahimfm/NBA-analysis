{
 "cells": [
  {
   "cell_type": "code",
   "execution_count": 5,
   "id": "88869cc8-f3ad-4304-aa26-094bd79bc981",
   "metadata": {},
   "outputs": [],
   "source": [
    "import pandas as pd\n",
    "import numpy as np\n",
    "import matplotlib.pyplot as plt\n",
    "\n",
    "from sklearn.ensemble import RandomForestClassifier\n",
    "from sklearn.metrics import accuracy_score, confusion_matrix, classification_report, ConfusionMatrixDisplay\n",
    "from sklearn.model_selection import RandomizedSearchCV\n",
    "from scipy.stats import randint\n",
    "from sklearn.tree import export_graphviz\n",
    "from IPython.display import Image\n",
    "import graphviz\n",
    "\n",
    "from ipynb.fs.full.UtilFunctions import format_season"
   ]
  },
  {
   "cell_type": "code",
   "execution_count": 2,
   "id": "31f6a4b0-1fb7-40cc-a3e9-1856bf26f8df",
   "metadata": {},
   "outputs": [],
   "source": [
    "def pre_process(seasons):\n",
    "    df = None\n",
    "    for season in seasons:\n",
    "        per_min_cols = ['FGA', '3PA', '2PA', 'PF', 'PTS', 'OWS', 'DWS', 'OBPM', 'DBPM', 'BPM']\n",
    "        cols_to_drop = None\n",
    "        first_year, second_year = format_season(season)\n",
    "        player_data = pd.read_csv(f\"DataCollection/Player_Stats/player_stats_{first_year}-{second_year}.csv\")\n",
    "        if season > 1997:\n",
    "            cols_to_drop = ['index', 'TRB', 'DRB', 'ORB', 'AST', 'G', 'GS', '2PAr', 'FT', 'FG', 'FG%', 'BLK', 'STL', 'Dunks', \n",
    "                                  'Heaves', 'HeavesAttempted', 'WS', 'FTA', 'TOV', 'Age', '2P', '3P', 'VORP']\n",
    "            shooting_data = pd.read_csv(f\"DataCollection/Player_Shooting_Stats/Regular_Season/player_shooting_stats_{first_year}-{second_year}.csv\")\n",
    "            player_data = pd.merge(player_data, shooting_data.loc[:,~shooting_data.columns.isin(['Pos', 'Age', 'G', 'MP', 'FG%', \"3PAr\", \"2P%\", \"3P%\"])], on=['Player', 'Tm'])\n",
    "\n",
    "        else:\n",
    "            cols_to_drop = ['index', 'TRB', 'DRB', 'ORB', 'AST', 'G', 'GS', 'FT', 'FG', 'FG%', 'BLK', 'STL',\n",
    "                                'WS', 'FTA', 'TOV', 'Age', '2P', '3P', 'VORP']\n",
    "            \n",
    "        player_data = player_data.fillna(0)\n",
    "        player_data = player_data[(player_data[\"MP\"] > 15) & (player_data[\"G\"] >= 30)]\n",
    "        player_data = player_data.sort_values(by=['G'], ascending=False)\n",
    "        player_data = player_data[player_data[\"Tm\"] != \"TOT\"]\n",
    "        player_data = player_data.drop_duplicates(subset =\"Player\",keep = \"first\")\n",
    "        player_data.reset_index(inplace=True)\n",
    "        player_data.drop(columns=cols_to_drop, inplace=True)\n",
    "        \n",
    "        for col in per_min_cols:\n",
    "            player_data[col] = player_data[col] / player_data['MP'] * 36\n",
    "        \n",
    "        if df is None:\n",
    "            df = player_data\n",
    "        else:\n",
    "            df = pd.concat([df, player_data])\n",
    "            \n",
    "    df.reset_index(inplace=True)\n",
    "    df.drop(['index', 'Player', 'Tm'], axis=1, inplace=True)\n",
    "    return df"
   ]
  },
  {
   "cell_type": "code",
   "execution_count": 3,
   "id": "106f5853-b2e1-415b-97a6-b5e4a3975bcb",
   "metadata": {},
   "outputs": [],
   "source": [
    "#teste de normalizar features\n",
    "def random_forest_classify(X_train, y_train):\n",
    "    rf = RandomForestClassifier()\n",
    "    rand_search = RandomizedSearchCV(rf, param_distributions = {'n_estimators': randint(50,500), 'max_depth': randint(1, 20)},\n",
    "                                 n_iter = 5, cv = 5, random_state=42)\n",
    "    rand_search.fit(X_train, y_train)\n",
    "    return rand_search.best_estimator_"
   ]
  },
  {
   "cell_type": "code",
   "execution_count": 4,
   "id": "16ffea40-72d7-496c-8952-9489a26d7357",
   "metadata": {},
   "outputs": [],
   "source": [
    "def plot_feature_importances(importances, estimators, features):\n",
    "    fi = pd.Series(importances, index=features).sort_values(ascending=False)\n",
    "    #std = np.std([tree.feature_importances_ for tree in estimators], axis=0)\n",
    "    fig, ax = plt.subplots(figsize=(18, 18))\n",
    "    ax.bar(fi.index, fi)\n",
    "    ax.tick_params('x', labelrotation=90)\n",
    "    ax.set_title(\"Feature importances using MDI\")\n",
    "    ax.set_ylabel(\"Mean decrease in impurity\")"
   ]
  },
  {
   "cell_type": "code",
   "execution_count": 7,
   "id": "bfc8db91-121d-4562-9e1c-995dff37d51c",
   "metadata": {},
   "outputs": [],
   "source": [
    "def train_test_split(train_df, test_df):\n",
    "    return train_df.loc[:, ~train_df.columns.isin(['Pos'])], train_df['Pos'], test_df.loc[:, ~test_df.columns.isin(['Pos'])], test_df['Pos']"
   ]
  },
  {
   "cell_type": "code",
   "execution_count": null,
   "id": "7864f152-5879-4a0b-85b1-30c0e7478334",
   "metadata": {},
   "outputs": [],
   "source": []
  }
 ],
 "metadata": {
  "kernelspec": {
   "display_name": "Python 3 (ipykernel)",
   "language": "python",
   "name": "python3"
  },
  "language_info": {
   "codemirror_mode": {
    "name": "ipython",
    "version": 3
   },
   "file_extension": ".py",
   "mimetype": "text/x-python",
   "name": "python",
   "nbconvert_exporter": "python",
   "pygments_lexer": "ipython3",
   "version": "3.10.6"
  }
 },
 "nbformat": 4,
 "nbformat_minor": 5
}
