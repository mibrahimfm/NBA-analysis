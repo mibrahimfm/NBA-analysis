{
 "cells": [
  {
   "cell_type": "code",
   "execution_count": 1,
   "metadata": {},
   "outputs": [],
   "source": [
    "import scipy.stats as sts\n",
    "import pandas as pd"
   ]
  },
  {
   "cell_type": "code",
   "execution_count": 2,
   "metadata": {},
   "outputs": [],
   "source": [
    "def mean(data):\n",
    "    return sum(data) / len(data)"
   ]
  },
  {
   "cell_type": "code",
   "execution_count": 3,
   "metadata": {},
   "outputs": [],
   "source": [
    "def variance(data):\n",
    "    n = len(data)\n",
    "    avg = mean(data)\n",
    "    \n",
    "    deviations = [(x - avg) ** 2 for x in data]\n",
    "    \n",
    "    variance = sum(deviations) / n\n",
    "    return variance"
   ]
  },
  {
   "cell_type": "code",
   "execution_count": 4,
   "metadata": {},
   "outputs": [],
   "source": [
    "def std(data):\n",
    "    var = variance(data)\n",
    "    std = var ** 0.5\n",
    "    return std"
   ]
  },
  {
   "cell_type": "code",
   "execution_count": 5,
   "metadata": {},
   "outputs": [],
   "source": [
    "def round_closest_half(n):\n",
    "    return round(n * 2) / 2"
   ]
  },
  {
   "cell_type": "code",
   "execution_count": 6,
   "metadata": {},
   "outputs": [],
   "source": [
    "def growth_rate(data):\n",
    "    straight_line_growth = []\n",
    "    \n",
    "    for i in range(1, len(data)):\n",
    "        growth = (data[i] - data[i-1]) / data[i-1]\n",
    "        straight_line_growth.append(growth)\n",
    "        \n",
    "    growth_rt = sum(straight_line_growth) / len(straight_line_growth)\n",
    "    \n",
    "    return \"{:.2f}%\".format(growth_rt*100)"
   ]
  },
  {
   "cell_type": "code",
   "execution_count": 7,
   "metadata": {},
   "outputs": [],
   "source": [
    "def format_season(season):\n",
    "        #Formats years in season to use in File Name\n",
    "        #Ex: 2021 turns into 2020-21\n",
    "        first_year = season-1\n",
    "        second_year = str(season)[2:]\n",
    "        \n",
    "        return first_year, second_year"
   ]
  },
  {
   "cell_type": "code",
   "execution_count": 8,
   "metadata": {},
   "outputs": [],
   "source": [
    "def spearman_rank_corr(rank1, rank2):\n",
    "    d_square = []\n",
    "    \n",
    "    if len(rank1) != len(rank2):\n",
    "        return\n",
    "    \n",
    "    n = len(rank1)\n",
    "    \n",
    "    for i in range(n):\n",
    "        d = rank1[i] - rank2[i]\n",
    "        d_square.append(d ** 2)\n",
    "    \n",
    "    return 1 - ((6 * sum(d_square)) / (n * (n ** 2 - 1)))"
   ]
  },
  {
   "cell_type": "code",
   "execution_count": 9,
   "metadata": {},
   "outputs": [],
   "source": [
    "def merge_standings(eastern_standings, western_standings):\n",
    "    standings = pd.concat([western_standings, eastern_standings])\n",
    "    standings.sort_values(by=[\"Made_Playoffs\", \"W\", \"Rank\", \"Team\"], ascending=[False, False, True, True], inplace=True)\n",
    "    standings.reset_index(inplace=True)\n",
    "    standings.drop('index', axis=1, inplace=True)\n",
    "    standings.index += 1\n",
    "    teams_ranked = dict(standings[\"Team\"])\n",
    "    inv_teams_ranked = {v: k for k, v in teams_ranked.items()}\n",
    "    return inv_teams_ranked"
   ]
  },
  {
   "cell_type": "code",
   "execution_count": 10,
   "metadata": {},
   "outputs": [],
   "source": [
    "def linear_regression_stat(x, y):\n",
    "    if len(x) != len(y):\n",
    "        return\n",
    "    \n",
    "    return sts.linregress(x, y)"
   ]
  },
  {
   "cell_type": "code",
   "execution_count": 11,
   "metadata": {},
   "outputs": [],
   "source": [
    "def multiple_linear_regression_stat(X, y):\n",
    "    return LinearRegression().fit(X, y)"
   ]
  },
  {
   "cell_type": "code",
   "execution_count": 12,
   "metadata": {},
   "outputs": [],
   "source": [
    "def spearman_rank_corr(rank1, rank2):\n",
    "    d_square = []\n",
    "    \n",
    "    if len(rank1) != len(rank2):\n",
    "        return\n",
    "    \n",
    "    n = len(rank1)\n",
    "    \n",
    "    for i in range(n):\n",
    "        d = rank1[i] - rank2[i]\n",
    "        d_square.append(d ** 2)\n",
    "    \n",
    "    return 1 - ((6 * sum(d_square)) / (n * (n ** 2 - 1)))"
   ]
  }
 ],
 "metadata": {
  "kernelspec": {
   "display_name": "Python 3",
   "language": "python",
   "name": "python3"
  },
  "language_info": {
   "codemirror_mode": {
    "name": "ipython",
    "version": 3
   },
   "file_extension": ".py",
   "mimetype": "text/x-python",
   "name": "python",
   "nbconvert_exporter": "python",
   "pygments_lexer": "ipython3",
   "version": "3.7.6"
  }
 },
 "nbformat": 4,
 "nbformat_minor": 4
}
