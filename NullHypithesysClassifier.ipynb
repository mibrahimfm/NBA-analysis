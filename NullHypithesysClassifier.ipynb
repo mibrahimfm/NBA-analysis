{
 "cells": [
  {
   "cell_type": "markdown",
   "metadata": {},
   "source": [
    "## This notebook has the purpose of designing a random classifier for player's positions\n",
    "\n",
    "In the project, this will be useful to establish a null hypothesis, measuring the distribution hypothesys of each iteration of this null model to verify at what point a season could be classified as \"positionless\""
   ]
  },
  {
   "cell_type": "markdown",
   "metadata": {},
   "source": []
  }
 ],
 "metadata": {
  "language_info": {
   "name": "python"
  }
 },
 "nbformat": 4,
 "nbformat_minor": 2
}
