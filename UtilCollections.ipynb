{
 "cells": [
  {
   "cell_type": "code",
   "execution_count": null,
   "metadata": {},
   "outputs": [],
   "source": [
    "PARAMS = {'legend.fontsize': 'xx-large',\n",
    "          'figure.figsize': (25, 17),\n",
    "         'axes.labelsize': 'large',\n",
    "         'axes.titlesize':'xx-large',\n",
    "         'xtick.labelsize':'x-large',\n",
    "         'ytick.labelsize':'xx-large'}"
   ]
  },
  {
   "cell_type": "code",
   "execution_count": null,
   "metadata": {},
   "outputs": [],
   "source": [
    "CURRENT_TEAMS = [\"ATL\", \"BOS\", \"BRK\", \"CHI\", \"CHO\", \"CLE\", \"DAL\", \"DEN\", \"DET\", \"GSW\", \"HOU\", \"IND\", \"LAC\", \"LAL\", \"MEM\", \"MIA\", \"MIL\", \"MIN\", \"NOP\", \"NYK\", \"OKC\", \"ORL\", \"PHI\", \"PHO\", \"POR\", \"SAC\", \"SAS\", \"TOR\", \"UTA\", \"WAS\"]\n",
    "TEAMS = CURRENT_TEAMS + [\"SLH\", \"TCB\", \"NJN\", \"NYN\", \"CHA\", \"FWP\", \"SFW\", \"SDC\", \"VAN\", \"NOK\", \"NOH\", \"SEA\", \"SYR\", \"KCK\", \"ROR\", \"NOJ\", \"WSB\", \"CAP\", \"BAL\"]"
   ]
  },
  {
   "cell_type": "code",
   "execution_count": null,
   "metadata": {},
   "outputs": [],
   "source": [
    "CURRENT_TEAM_COLORS = ['#E03A3E', '#007A33', '#000000', '#CE1141', '#00788C', '#860038', '#00538C', '#FEC524', '#1D42BA', \n",
    "                     '#1D428A', '#CE1141', '#002D62', '#BEC0C2', '#552583', '#5D76A9', '#98002E', '#00471B', '#78BE20',\n",
    "                     '#85714D', '#F58426', '#007AC1', '#0077C0', '#006BB6', '#E56020', '#E03A3E', '#5A2D81', '#C4CED4', \n",
    "                     '#A1A1A4', '#00471B', '#002B5C']"
   ]
  },
  {
   "cell_type": "code",
   "execution_count": null,
   "metadata": {},
   "outputs": [],
   "source": [
    "WESTERN_CONF_TEAMS = [\"DAL\", \"DEN\", \"GSW\", \"HOU\", \"LAC\", \"LAL\", \"MEM\", \"MIN\", \"NOP\", \"OKC\", \"PHO\", \"POR\", \"SAC\", \"SAS\", \"UTA\"]\n",
    "EASTERN_CONF_TEAMS = [\"ATL\", \"BOS\", \"BRK\", \"CHI\", \"CHO\", \"CLE\", \"DET\", \"IND\", \"MIA\", \"MIL\", \"NYK\", \"ORL\", \"PHI\", \"TOR\", \"WAS\"]"
   ]
  },
  {
   "cell_type": "code",
   "execution_count": null,
   "metadata": {},
   "outputs": [],
   "source": [
    "ATLANTIC_DIV_TEAMS = [\"BOS\", \"BRK\", \"NYK\", \"PHI\", \"TOR\"]\n",
    "CENTRAL_DIV_TEAMS = [\"CHI\", \"CLE\", \"DET\", \"IND\", \"MIL\"]\n",
    "SOUTHEAST_DIV_TEAMS = [\"ATL\", \"CHO\", \"MIA\", \"ORL\", \"WAS\"]"
   ]
  },
  {
   "cell_type": "code",
   "execution_count": null,
   "metadata": {},
   "outputs": [],
   "source": [
    "NORTHWEST_DIV_TEAMS = [\"DEN\", \"MIN\", \"OKC\", \"POR\", \"UTA\"]\n",
    "SOUTHWEST_DIV_TEAMS = [\"GSW\", \"LAC\", \"LAL\", \"PHO\", \"SAC\"]\n",
    "PACIFIC_DIV_TEAMS = [\"DAL\", \"HOU\", \"MEM\", \"NOP\", \"SAS\"]"
   ]
  },
  {
   "cell_type": "code",
   "execution_count": null,
   "metadata": {},
   "outputs": [],
   "source": [
    "ATLANTIC_DIV_TEAMS_COLORS = [\"#007A33\", \"#000000\", \"#F58426\", \"#006BB6\", \"#A1A1A4\"]\n",
    "CENTRAL_DIV_TEAMS_COLORS = [\"#CE1141\", \"#860038\", \"#1D42BA\", \"#002D62\", \"#00471B\"]\n",
    "SOUTHEAST_DIV_TEAMS_COLORS = [\"#E03A3E\", \"#00788C\", \"#98002E\", \"#0077C0\", \"#002B5C\"]"
   ]
  },
  {
   "cell_type": "code",
   "execution_count": null,
   "metadata": {},
   "outputs": [],
   "source": [
    "NORTHWEST_DIV_TEAMS_COLORS = [\"#FEC524\", \"#78BE20\", \"#007AC1\", \"#E03A3E\", \"#00471B\"]\n",
    "SOUTHWEST_DIV_TEAMS_COLORS = [\"#1D428A\", \"#BEC0C2\", \"#FDB927\", \"#E56020\", \"#5A2D81\"]\n",
    "PACIFIC_DIV_TEAMS_COLORS = [\"#00538C\", \"#CE1141\", \"#5D76A9\", \"#85714D\", \"#C4CED4\"]"
   ]
  },
  {
   "cell_type": "code",
   "execution_count": null,
   "metadata": {},
   "outputs": [],
   "source": [
    "SEASONS = [2000, 2001, 2002, 2003, 2004, 2005, 2006, 2007, 2008, 2009, 2010, 2011, 2012, 2013, 2014, 2015, 2016, 2017, 2018, 2019, 2020, 2021, 2022]\n",
    "POSITIONS = [\"PG\", \"SG\", \"SF\", \"PF\", \"C\"]"
   ]
  },
  {
   "cell_type": "code",
   "execution_count": null,
   "metadata": {},
   "outputs": [],
   "source": [
    "TEAM_TO_ABBR = {\n",
    "    'ATLANTA HAWKS': 'ATL',\n",
    "    'ST. LOUIS HAWKS': 'SLH',\n",
    "    'MILWAUKEE HAWKS': 'MIL',\n",
    "    'TRI-CITIES BLACKHAWKS': 'TCB',\n",
    "    'BOSTON CELTICS': 'BOS',\n",
    "    'BROOKLYN NETS': 'BRK',\n",
    "    'NEW JERSEY NETS' : 'BRK',\n",
    "    'NEW YORK NETS' : 'NYN',\n",
    "    'CHICAGO BULLS': 'CHI',\n",
    "    'CHARLOTTE HORNETS': 'CHO',\n",
    "    'CHARLOTTE BOBCATS' : 'CHO',\n",
    "    'CLEVELAND CAVALIERS': 'CLE',\n",
    "    'DALLAS MAVERICKS': 'DAL',\n",
    "    'DENVER NUGGETS': 'DEN',\n",
    "    'DETROIT PISTONS': 'DET',\n",
    "    'FORT WAYNE PISTONS': 'FWP',\n",
    "    'GOLDEN STATE WARRIORS': 'GSW',\n",
    "    'SAN FRANCISCO WARRIORS': 'SFW',\n",
    "    'PHILADELPHIA WARRIORS': 'PHI',\n",
    "    'HOUSTON ROCKETS': 'HOU',\n",
    "    'SAN DIEGO ROCKETS': 'HOU',\n",
    "    'INDIANA PACERS': 'IND',\n",
    "    'LOS ANGELES CLIPPERS': 'LAC',\n",
    "    'SAN DIEGO CLIPPERS': 'SDC',\n",
    "    'BUFFALO BRAVES': 'BUF',\n",
    "    'LOS ANGELES LAKERS': 'LAL',\n",
    "    'MINNEAPOLIS LAKERS': 'MIN',\n",
    "    'MEMPHIS GRIZZLIES': 'MEM',\n",
    "    'VANCOUVER GRIZZLIES' : 'MEM',\n",
    "    'MIAMI HEAT': 'MIA',\n",
    "    'MILWAUKEE BUCKS': 'MIL',\n",
    "    'MINNESOTA TIMBERWOLVES': 'MIN',\n",
    "    'NEW ORLEANS PELICANS' : 'NOP',\n",
    "    'NEW ORLEANS/OKLAHOMA CITY HORNETS' : 'NOP',\n",
    "    'NEW ORLEANS HORNETS' : 'NOP',\n",
    "    'NEW YORK KNICKS' : 'NYK',\n",
    "    'OKLAHOMA CITY THUNDER' : 'OKC',\n",
    "    'SEATTLE SUPERSONICS' : 'OKC',\n",
    "    'ORLANDO MAGIC' : 'ORL',\n",
    "    'PHILADELPHIA 76ERS' : 'PHI',\n",
    "    'SYRACUSE NATIONALS' : 'SYR',\n",
    "    'PHOENIX SUNS' : 'PHO',\n",
    "    'PORTLAND TRAIL BLAZERS' : 'POR',\n",
    "    'SACRAMENTO KINGS' : 'SAC',\n",
    "    'KANSAS CITY KINGS' : 'KCK',\n",
    "    'KANSAS CITY-OMAHA KINGS' : 'KCK',\n",
    "    'CINCINNATI ROYALS' : 'CIN',\n",
    "    'ROCHESTER ROYALS': 'ROR',\n",
    "    'SAN ANTONIO SPURS' : 'SAS',\n",
    "    'TORONTO RAPTORS' : 'TOR',\n",
    "    'UTAH JAZZ' : 'UTA',\n",
    "    'NEW ORLEANS JAZZ' : 'NOJ',\n",
    "    'WASHINGTON WIZARDS' : 'WAS',\n",
    "    'WASHINGTON BULLETS' : 'WAS',\n",
    "    'CAPITAL BULLETS' : 'CAP',\n",
    "    'BALTIMORE BULLETS' : 'BAL',\n",
    "    'CHICAGO ZEPHYRS' : 'CHI',\n",
    "    'CHICAGO PACKERS' : 'CHI',\n",
    "    \n",
    "    # DEFUNCT FRANCHISES\n",
    "#     'ANDERSON PACKERS': 'AND',\n",
    "#     'CHICAGO STAGS': 'CHI',\n",
    "#     'INDIANAPOLIS OLYMPIANS': 'IND',\n",
    "#     'SHEBOYGAN RED SKINS': 'SRS',\n",
    "#     'ST. LOUIS BOMBERS': 'SLB',\n",
    "#     'WASHINGTON CAPITOLS' : 'WAS',\n",
    "#     'WATERLOO HAWKS': 'WAT',\n",
    "    }"
   ]
  },
  {
   "cell_type": "code",
   "execution_count": null,
   "metadata": {},
   "outputs": [],
   "source": [
    "ALL_NEW_ABBR = {\n",
    "    'ATL': 'ATL',\n",
    "    'BOS': 'BOS',\n",
    "    'BRK': 'BRK',\n",
    "    'NJN' : 'BRK',\n",
    "    'CHH' : 'CHO',\n",
    "    'CHI': 'CHI',\n",
    "    'CHO': 'CHO',\n",
    "    'CHA' : 'CHO',\n",
    "    'CLE': 'CLE',\n",
    "    'DAL': 'DAL',\n",
    "    'DEN': 'DEN',\n",
    "    'DET': 'DET',\n",
    "    'GSW': 'GSW',\n",
    "    'HOU': 'HOU',\n",
    "    'IND': 'IND',\n",
    "    'LAC': 'LAC',\n",
    "    'SDC': 'LAC',\n",
    "    'LAL': 'LAL',\n",
    "    'MEM': 'MEM',\n",
    "    'VAN' : 'MEM',\n",
    "    'MIA': 'MIA',\n",
    "    'MIL': 'MIL',\n",
    "    'MIN': 'MIN',\n",
    "    'NOP' : 'NOP',\n",
    "    'NOK' : 'NOP',\n",
    "    'NOH' : 'NOP',\n",
    "    'NYK' : 'NYK',\n",
    "    'OKC' : 'OKC',\n",
    "    'SEA' : 'OKC',\n",
    "    'ORL' : 'ORL',\n",
    "    'PHI' : 'PHI',\n",
    "    'PHO' : 'PHO',\n",
    "    'POR' : 'POR',\n",
    "    'SAC' : 'SAC',\n",
    "    'SAS' : 'SAS',\n",
    "    'TOR' : 'TOR',\n",
    "    'UTA' : 'UTA',\n",
    "    'WAS' : 'WAS',\n",
    "    'WSB' : 'WAS',\n",
    "    'TOT' : 'TOT'\n",
    "    }"
   ]
  },
  {
   "cell_type": "code",
   "execution_count": null,
   "metadata": {},
   "outputs": [],
   "source": [
    "TEAM_STATS = ['G', 'MP', 'FG', 'FGA', 'FG%', '3P', '3PA', '3P%', '2P', '2PA',\n",
    "       '2P%', 'FT', 'FTA', 'FT%', 'ORB', 'DRB', 'TRB', 'AST', 'STL', 'BLK',\n",
    "       'TOV', 'PF', 'PTS', 'W', 'L', 'PW', 'PL', 'MOV', 'SOS', 'SRS', 'ORtg',\n",
    "       'DRtg', 'NRtg', 'Pace', 'FTr', '3PAr', 'TS%', 'Off_eFG%', 'Off_TOV%',\n",
    "       'Off_ORB%', 'Off_FT/FGA', 'Def_eFG%', 'Def_TOV%', 'Def_DRB%',\n",
    "       'Def_FT/FGA', 'Arena', 'Attend.', 'Attend./G']"
   ]
  },
  {
   "cell_type": "code",
   "execution_count": null,
   "metadata": {},
   "outputs": [],
   "source": [
    "PLAYER_STATS = ['Age', 'G', 'GS', 'MP', 'FG', 'FGA', 'FG%', '3P', '3PA', '3P%', '2P',\n",
    "       '2PA', '2P%', 'eFG%', 'FT', 'FTA', 'FT%', 'ORB', 'DRB', 'TRB', 'AST',\n",
    "       'STL', 'BLK', 'TOV', 'PF', 'PTS', 'PER', 'TS%', '3PAr', 'FTr', 'ORB%',\n",
    "       'DRB%', 'TRB%', 'AST%', 'STL%', 'BLK%', 'TOV%', 'USG%', 'OWS', 'DWS',\n",
    "       'WS', 'WS/48', 'OBPM', 'DBPM', 'BPM', 'VORP', 'Salary']"
   ]
  },
  {
   "cell_type": "code",
   "execution_count": null,
   "metadata": {},
   "outputs": [],
   "source": [
    "BENCH_STATS = ['Age', 'G', 'GS', 'MP', 'FG', 'FGA', 'FG%', '3P', '3PA', '3P%', '2P',\n",
    "       '2PA', '2P%', 'eFG%', 'FT', 'FTA', 'FT%', 'ORB', 'DRB', 'TRB', 'AST',\n",
    "       'STL', 'BLK', 'TOV', 'PF', 'PTS', 'PER', 'TS%', '3PAr', 'FTr', 'ORB%',\n",
    "       'DRB%', 'TRB%', 'AST%', 'STL%', 'BLK%', 'TOV%', 'USG%', 'OWS', 'DWS',\n",
    "       'WS', 'WS/48', 'OBPM', 'DBPM', 'BPM', 'VORP', 'Salary', 'Count']"
   ]
  }
 ],
 "metadata": {
  "kernelspec": {
   "display_name": "Python 3",
   "language": "python",
   "name": "python3"
  },
  "language_info": {
   "codemirror_mode": {
    "name": "ipython",
    "version": 3
   },
   "file_extension": ".py",
   "mimetype": "text/x-python",
   "name": "python",
   "nbconvert_exporter": "python",
   "pygments_lexer": "ipython3",
   "version": "3.7.6"
  }
 },
 "nbformat": 4,
 "nbformat_minor": 4
}
