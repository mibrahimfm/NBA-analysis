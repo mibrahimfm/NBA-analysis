{
 "cells": [
  {
   "cell_type": "markdown",
   "metadata": {},
   "source": [
    "## This notebook has the purpose of designing a random classifier for player's positions\n",
    "\n",
    "In the project, this will be useful to establish a null hypothesis, measuring the distribution hypothesys of each iteration of this null model to verify at what point a season could be classified as \"positionless\""
   ]
  },
  {
   "cell_type": "code",
   "execution_count": 3,
   "metadata": {},
   "outputs": [],
   "source": [
    "import pandas as pd\n",
    "from sklearn.metrics import accuracy_score, confusion_matrix, ConfusionMatrixDisplay, f1_score\n",
    "from scipy.stats import randint, entropy\n",
    "import numpy as np\n",
    "\n",
    "from UtilFunctions import format_season\n",
    "from UtilCollections import STATS_MAPPER, COLOR_MAPPER, POSITIONS"
   ]
  },
  {
   "cell_type": "code",
   "execution_count": 4,
   "metadata": {},
   "outputs": [],
   "source": [
    "position_to_number = {\n",
    "    \"PG\": 0,\n",
    "    \"SG\": 1,\n",
    "    \"SF\": 2,\n",
    "    \"PF\": 3,\n",
    "    \"C\": 4\n",
    "}"
   ]
  },
  {
   "cell_type": "code",
   "execution_count": 5,
   "metadata": {},
   "outputs": [],
   "source": [
    "def pre_process(seasons):\n",
    "    df = None\n",
    "    for season in seasons:\n",
    "        per_min_cols = ['FGA', '3PA', '2PA', 'PF', 'PTS', 'OWS', 'DWS', 'OBPM', 'DBPM', 'BPM']\n",
    "        cols_to_drop = None\n",
    "        first_year, second_year = format_season(season)\n",
    "        player_data = pd.read_csv(f\"DataCollection/Player_Stats/player_stats_{first_year}-{second_year}.csv\")\n",
    "        cols_to_drop = ['index', 'TRB', 'DRB', 'ORB', 'AST', 'G', 'GS', 'FT', 'FG', 'FG%', 'BLK', 'STL',\n",
    "                                'WS', 'FTA', 'TOV', 'Age', '2P', '3P', 'VORP']\n",
    "            \n",
    "        player_data = player_data.fillna(0)\n",
    "        player_data = player_data[(player_data[\"MP\"] > 15) & (player_data[\"G\"] >= 30)]\n",
    "        player_data = player_data.sort_values(by=['G'], ascending=False)\n",
    "        player_data = player_data[player_data[\"Tm\"] != \"TOT\"]\n",
    "        player_data = player_data.drop_duplicates(subset =\"Player\",keep = \"first\")\n",
    "        player_data.reset_index(inplace=True)\n",
    "        player_data.drop(columns=cols_to_drop, inplace=True)\n",
    "        \n",
    "        for col in per_min_cols:\n",
    "            player_data[col] = player_data[col] / player_data['MP'] * 36\n",
    "        \n",
    "        if df is None:\n",
    "            df = player_data\n",
    "        else:\n",
    "            df = pd.concat([df, player_data])\n",
    "            \n",
    "    df.reset_index(inplace=True)\n",
    "    df.drop(['index', 'Player', 'Tm'], axis=1, inplace=True)\n",
    "    return df"
   ]
  },
  {
   "cell_type": "code",
   "execution_count": 6,
   "metadata": {},
   "outputs": [],
   "source": [
    "def calculate_probability_matrix(cm):\n",
    "    prob_matrix = []\n",
    "    for i in range(len(cm)):\n",
    "        prob_matrix.append([])\n",
    "        players_in_position = sum(cm[i,:])\n",
    "        for j in range(len(cm)):\n",
    "            prob_matrix[i].append(round(cm[i,j]/players_in_position, 2))\n",
    "    \n",
    "    return prob_matrix"
   ]
  },
  {
   "cell_type": "code",
   "execution_count": 7,
   "metadata": {},
   "outputs": [],
   "source": [
    "def entropy_by_position(positions, p_matrix):\n",
    "    entropies = {}\n",
    "    i = 0\n",
    "    for position in positions:\n",
    "        entropies[position] = entropy(p_matrix[i], base=2)\n",
    "        i += 1\n",
    "    return entropies"
   ]
  },
  {
   "cell_type": "code",
   "execution_count": 8,
   "metadata": {},
   "outputs": [],
   "source": [
    "def random_hypothesis(seasons, positions):\n",
    "    \"\"\"\n",
    "    Generates a random hypothesis for position prediction, with probabilities\n",
    "    proportional to the distribution of players in each position.\n",
    "\n",
    "    Args:\n",
    "        seasons (list): List of seasons to test.\n",
    "        positions (list): List of positions to consider.\n",
    "\n",
    "    Returns:\n",
    "        dict: Dictionary of entropies by position for each season.\n",
    "    \"\"\"\n",
    "    entropies_df = {season: [] for season in seasons}\n",
    "    accuracies_df = {season: [] for season in seasons}\n",
    "\n",
    "    for i in range(1000):\n",
    "        if i % 100 == 0:\n",
    "            print(f\"Iteration {i}\")\n",
    "        for season in seasons:\n",
    "            df = pre_process([season])\n",
    "            df = df[df['Pos'].isin(positions)]\n",
    "\n",
    "            y_test = df['Pos']\n",
    "\n",
    "            # Calculate position distribution\n",
    "            position_counts = df['Pos'].value_counts(normalize=True)\n",
    "            position_probabilities = [position_counts.get(pos, 0) for pos in positions]\n",
    "\n",
    "            # Generate random predictions based on position distribution\n",
    "            y_pred = np.random.choice(positions, size=len(df.index), p=position_probabilities)\n",
    "\n",
    "            cm = confusion_matrix(y_test, y_pred, labels=positions)\n",
    "            prob_matrix = calculate_probability_matrix(cm)\n",
    "\n",
    "            entropies_df[season].append(entropy_by_position(positions, prob_matrix))\n",
    "            accuracies_df[season].append(accuracy_score(y_test, y_pred))\n",
    "            \n",
    "    accuracies_df = {season: np.mean(accuracies_df[season]) for season in seasons}\n",
    "\n",
    "    return entropies_df, accuracies_df"
   ]
  },
  {
   "cell_type": "code",
   "execution_count": 9,
   "metadata": {},
   "outputs": [
    {
     "name": "stdout",
     "output_type": "stream",
     "text": [
      "Iteration 0\n",
      "Iteration 100\n",
      "Iteration 200\n",
      "Iteration 300\n",
      "Iteration 400\n",
      "Iteration 500\n",
      "Iteration 600\n",
      "Iteration 700\n",
      "Iteration 800\n",
      "Iteration 900\n"
     ]
    }
   ],
   "source": [
    "entropies, accuracies = random_hypothesis(range(1980, 2025), POSITIONS)"
   ]
  },
  {
   "cell_type": "code",
   "execution_count": 12,
   "metadata": {},
   "outputs": [
    {
     "data": {
      "text/plain": [
       "np.float64(0.2017837986636524)"
      ]
     },
     "execution_count": 12,
     "metadata": {},
     "output_type": "execute_result"
    }
   ],
   "source": [
    "\n",
    "np.mean([v for v in accuracies.values()])\n"
   ]
  },
  {
   "cell_type": "code",
   "execution_count": null,
   "metadata": {},
   "outputs": [],
   "source": [
    "import matplotlib.pyplot as plt\n",
    "import numpy as np"
   ]
  },
  {
   "cell_type": "code",
   "execution_count": null,
   "metadata": {},
   "outputs": [],
   "source": [
    "def get_positionless_borderlines(entropies, positions):\n",
    "    positionless_borderlines = {}\n",
    "    for season in entropies.keys():        \n",
    "        positionless_borderlines[season] = {}\n",
    "        lb, ub, pb1, pb5, pb99 = 0.0, 0.0, 0.0, 0.0, 0.0\n",
    "        for position in positions:                        \n",
    "            entropies_each_season = [e[position] for e in entropies[season]]\n",
    "            print(f\"Entropy for {position} in {season}: {entropies_each_season}\")\n",
    "            lb = np.percentile(entropies_each_season, 0.1)\n",
    "            pb1 = np.percentile(entropies_each_season, 1)\n",
    "            pb5 = np.percentile(entropies_each_season, 5)\n",
    "            pb99 = np.percentile(entropies_each_season, 99)\n",
    "            ub = np.percentile(entropies_each_season, 99.9)\n",
    "            positionless_borderlines[season][position] = (lb, pb1, pb5, pb99, ub)\n",
    "        \n",
    "            \n",
    "                \n",
    "    return positionless_borderlines"
   ]
  },
  {
   "cell_type": "code",
   "execution_count": null,
   "metadata": {},
   "outputs": [],
   "source": [
    "positionless_borderlines = get_positionless_borderlines(entropies, POSITIONS)"
   ]
  }
 ],
 "metadata": {
  "kernelspec": {
   "display_name": "Python 3",
   "language": "python",
   "name": "python3"
  },
  "language_info": {
   "codemirror_mode": {
    "name": "ipython",
    "version": 3
   },
   "file_extension": ".py",
   "mimetype": "text/x-python",
   "name": "python",
   "nbconvert_exporter": "python",
   "pygments_lexer": "ipython3",
   "version": "3.12.4"
  }
 },
 "nbformat": 4,
 "nbformat_minor": 2
}
